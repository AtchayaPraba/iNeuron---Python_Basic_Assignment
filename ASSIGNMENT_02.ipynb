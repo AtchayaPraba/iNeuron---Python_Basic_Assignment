{
 "cells": [
  {
   "cell_type": "markdown",
   "id": "fc3264b9",
   "metadata": {},
   "source": [
    "# ASSIGNMENT_02"
   ]
  },
  {
   "cell_type": "markdown",
   "id": "50ce4851",
   "metadata": {},
   "source": [
    "QUESTION:\n",
    "    1.What are the two values of the Boolean data type? How do you write them?\n",
    "\n",
    "ANSWER:\n",
    "    True and False are the two values of the Boolean data type. "
   ]
  },
  {
   "cell_type": "code",
   "execution_count": 1,
   "id": "32da4b00",
   "metadata": {},
   "outputs": [
    {
     "name": "stdout",
     "output_type": "stream",
     "text": [
      "True False\n"
     ]
    }
   ],
   "source": [
    "# ANSWER\n",
    "\n",
    "a = True\n",
    "b = False\n",
    "\n",
    "print(a,b)"
   ]
  },
  {
   "cell_type": "markdown",
   "id": "58512855",
   "metadata": {},
   "source": [
    "QUESTION:\n",
    "    2. What are the three different types of Boolean operators?\n",
    "\n",
    "ANSWER:\n",
    "    The three basic boolean operators are: and, or, and not."
   ]
  },
  {
   "cell_type": "code",
   "execution_count": 2,
   "id": "a8689ac5",
   "metadata": {},
   "outputs": [
    {
     "name": "stdout",
     "output_type": "stream",
     "text": [
      "False\n",
      "True\n",
      "False True\n"
     ]
    }
   ],
   "source": [
    "# Example\n",
    "\n",
    "a = True\n",
    "b = False\n",
    "\n",
    "print(a and b)\n",
    "print(a or b)\n",
    "print (not a, not b)"
   ]
  },
  {
   "cell_type": "raw",
   "id": "c1ea08e8",
   "metadata": {},
   "source": [
    "QUESTION:\n",
    "    3. Make a list of each Boolean operator's truth tables (i.e. every possible combination of Boolean values for the operator and what it evaluate ).\n",
    "\n",
    "ANSWER:"
   ]
  },
  {
   "cell_type": "code",
   "execution_count": 3,
   "id": "c4c05a0a",
   "metadata": {},
   "outputs": [
    {
     "name": "stdout",
     "output_type": "stream",
     "text": [
      "--------truthtable_and--------\n",
      "[False, True, False, False]\n",
      "\n",
      "\n",
      "--------truthtable_or---------\n",
      "[True, True, False, True]\n",
      "\n",
      "\n",
      "----truthtable_not_cond_1-----\n",
      "[False, False, True, True]\n",
      "\n",
      "\n",
      "----truthtable_not_cond_2-----\n",
      "[True, False, True, False]\n"
     ]
    }
   ],
   "source": [
    "# ANSWER\n",
    "\n",
    "cond_1 = [True, True, False, False]\n",
    "cond_2 = [False, True, False, True]\n",
    "\n",
    "truthtable_and = []\n",
    "truthtable_or = []\n",
    "truthtable_not_cond_1 = [] \n",
    "truthtable_not_cond_2 = []\n",
    "\n",
    "for i in range(len(cond_1)):\n",
    "    tt_and = cond_1[i] and cond_2[i]\n",
    "    truthtable_and.append(tt_and)\n",
    "    tt_or = cond_1[i] or cond_2[i]\n",
    "    truthtable_or.append(tt_or)\n",
    "    tt_not = not (cond_1[i])\n",
    "    truthtable_not_cond_1.append(tt_not)\n",
    "    tt_not = not (cond_2[i])\n",
    "    truthtable_not_cond_2.append(tt_not)\n",
    "    \n",
    "print(\"truthtable_and\".center(30,'-'))\n",
    "print(truthtable_and)\n",
    "print('\\n')\n",
    "print(\"truthtable_or\".center(30,'-'))\n",
    "print(truthtable_or)\n",
    "print('\\n')\n",
    "print(\"truthtable_not_cond_1\".center(30,'-'))\n",
    "print(truthtable_not_cond_1)\n",
    "print('\\n')\n",
    "print(\"truthtable_not_cond_2\".center(30,'-'))\n",
    "print(truthtable_not_cond_2)"
   ]
  },
  {
   "cell_type": "markdown",
   "id": "54bd32ce",
   "metadata": {},
   "source": [
    "QUESTION:\n",
    "    4. What are the values of the following expressions?\n",
    "    (5 > 4) and (3 == 5)\n",
    "    not (5 > 4)\n",
    "    (5 > 4) or (3 == 5)\n",
    "    not ((5 > 4) or (3 == 5))\n",
    "    (True and True) and (True == False)\n",
    "    (not False) or (not True)\n",
    "    \n",
    "ANSWER:\n",
    "    (5 > 4) and (3 == 5) is: False\n",
    "    not (5 > 4) is: False\n",
    "    (5 > 4) or (3 == 5) is: True\n",
    "    not ((5 > 4) or (3 == 5)) is: False\n",
    "    (True and True) and (True == False) is: False\n",
    "    (not False) or (not True) is: True"
   ]
  },
  {
   "cell_type": "code",
   "execution_count": 4,
   "id": "7555dfdc",
   "metadata": {},
   "outputs": [
    {
     "name": "stdout",
     "output_type": "stream",
     "text": [
      "(5 > 4) and (3 == 5) is: False\n",
      "not (5 > 4) is: False\n",
      "(5 > 4) or (3 == 5) is: True\n",
      "not ((5 > 4) or (3 == 5)) is: False\n",
      "(True and True) and (True == False) is: False\n",
      "(not False) or (not True) is: True\n"
     ]
    }
   ],
   "source": [
    "# ANSWER\n",
    "\n",
    "print(\"(5 > 4) and (3 == 5) is:\", (5 > 4) and (3 == 5))\n",
    "print(\"not (5 > 4) is:\", not (5 > 4))\n",
    "print(\"(5 > 4) or (3 == 5) is:\", (5 > 4) or (3 == 5))\n",
    "print(\"not ((5 > 4) or (3 == 5)) is:\", not ((5 > 4) or (3 == 5)))\n",
    "print(\"(True and True) and (True == False) is:\", (True and True) and (True == False))\n",
    "print(\"(not False) or (not True) is:\", (not False) or (not True))"
   ]
  },
  {
   "cell_type": "markdown",
   "id": "89fe4880",
   "metadata": {},
   "source": [
    "QUESTION:\n",
    "    5. What are the six comparison operators?\n",
    "\n",
    "ANSWER:\n",
    "    1. Less than ( < )\n",
    "    2. Less than or equal to ( <= )\n",
    "    3. Greater than ( > )\n",
    "    4. Greater than or equal to ( >= )\n",
    "    5. Equal to ( == )\n",
    "    6. Not equal to ( != )"
   ]
  },
  {
   "cell_type": "markdown",
   "id": "db9e2e91",
   "metadata": {},
   "source": [
    "QUESTION:\n",
    "    6. How do you tell the difference between the equal to and assignment operators?Describe a condition and when you would use one.\n",
    "\n",
    "ANSWER:\n",
    "    1. Equal to operator is represented using ==. Used to check whether the LHS of the == operator is equal to the RHS.\n",
    "    2. Assignment operator is represented using =. Used to assign a variable to a value. "
   ]
  },
  {
   "cell_type": "code",
   "execution_count": 5,
   "id": "28e472cd",
   "metadata": {},
   "outputs": [
    {
     "name": "stdout",
     "output_type": "stream",
     "text": [
      "False 'LHS not equal to RHS. Hence Flase'\n",
      "True 'LHS equal to RHS. Hence True'\n",
      "100 13.55\n"
     ]
    }
   ],
   "source": [
    "# Example\n",
    "\n",
    "# Equal to operator\n",
    "print(500 == 100, \"'LHS not equal to RHS. Hence Flase'\") \n",
    "print(500 == 500, \"'LHS equal to RHS. Hence True'\")\n",
    "\n",
    "# Assignment operator\n",
    "a = 100\n",
    "b = 13.55\n",
    "\n",
    "print (a,b)"
   ]
  },
  {
   "cell_type": "markdown",
   "id": "41341e0d",
   "metadata": {},
   "source": [
    "QUESTION:\n",
    "    7. Identify the three blocks in this code:\n",
    "        spam = 0\n",
    "        if spam == 10:\n",
    "        print('eggs')\n",
    "        if spam > 5:\n",
    "        print('bacon')\n",
    "        else:\n",
    "        print('ham')\n",
    "        print('spam')\n",
    "        print('spam')\n",
    "\n",
    "ANSWER:"
   ]
  },
  {
   "cell_type": "code",
   "execution_count": 6,
   "id": "3b27d629",
   "metadata": {},
   "outputs": [
    {
     "name": "stdout",
     "output_type": "stream",
     "text": [
      "ham\n",
      "spam\n",
      "spam\n"
     ]
    }
   ],
   "source": [
    "# ANSWER\n",
    "\n",
    "spam = 0\n",
    "\n",
    "# \"if\" block\n",
    "if spam == 10:\n",
    "    print('eggs')\n",
    "    \n",
    "# \"if\" block  \n",
    "if spam > 5:\n",
    "    print('bacon')\n",
    "    \n",
    "# \"else\" block\n",
    "else:\n",
    "    print('ham')\n",
    "    print('spam')\n",
    "    print('spam')"
   ]
  },
  {
   "cell_type": "code",
   "execution_count": 7,
   "id": "ead59a3c",
   "metadata": {},
   "outputs": [
    {
     "ename": "SyntaxError",
     "evalue": "invalid syntax (3918267575.py, line 1)",
     "output_type": "error",
     "traceback": [
      "\u001b[1;36m  Input \u001b[1;32mIn [7]\u001b[1;36m\u001b[0m\n\u001b[1;33m    QUESTION:\u001b[0m\n\u001b[1;37m             ^\u001b[0m\n\u001b[1;31mSyntaxError\u001b[0m\u001b[1;31m:\u001b[0m invalid syntax\n"
     ]
    }
   ],
   "source": [
    "QUESTION:\n",
    "    8. Write code that prints Hello if 1 is stored in spam, prints Howdy if 2 is stored in spam, and prints Greetings! if anything else is stored in spam.\n",
    "\n",
    "ANSWER:"
   ]
  },
  {
   "cell_type": "code",
   "execution_count": null,
   "id": "f23ad909",
   "metadata": {},
   "outputs": [],
   "source": [
    "# ANSWER\n",
    "\n",
    "spam = int(input(\"Enter a value: \"))\n",
    "\n",
    "if (spam == 1):\n",
    "    print (\"Hello\")\n",
    "    \n",
    "elif (spam == 2):\n",
    "    print (\"Howdy\")\n",
    "    \n",
    "else:\n",
    "    print (\"Greetings!\")"
   ]
  },
  {
   "cell_type": "markdown",
   "id": "3bc7399b",
   "metadata": {},
   "source": [
    "QUESTION:\n",
    "    9.If your programme is stuck in an endless loop, what keys you’ll press?\n",
    "\n",
    "ANSWER: \n",
    "    \"Intterupt the Kernel\" key should be pressed."
   ]
  },
  {
   "cell_type": "markdown",
   "id": "ee7706ac",
   "metadata": {},
   "source": [
    "QUESTION:\n",
    "    10. How can you tell the difference between break and continue?\n",
    "\n",
    "ANSWER:\n",
    "    1. The \"break keyword\" terminates the execution of the current loop and passes the control over the next loop or main body.\n",
    "    2. The \"continue keyword\" skips the current iteration and executes the very next iteration in the loop. \n",
    "    3. In simple words break statement leaves a loop, whereas the continue statement jumps to the next iteration. "
   ]
  },
  {
   "cell_type": "code",
   "execution_count": null,
   "id": "f9a9a911",
   "metadata": {},
   "outputs": [],
   "source": [
    "# Example\n",
    "\n",
    "nums = [1, 2, 3, 4, 5]\n",
    "\n",
    "print(\"----Using \\\"break\\\"-------\")\n",
    "for n in nums:\n",
    "    if n == 3:\n",
    "        break\n",
    "    print(n)\n",
    "    \n",
    "nums = [1, 2, 3, 4, 5]\n",
    "\n",
    "print(\"----Using \\\"continue\\\"-------\")\n",
    "for n in nums:\n",
    "    if n == 3:\n",
    "        continue\n",
    "    print(n)"
   ]
  },
  {
   "cell_type": "markdown",
   "id": "fd9e3be4",
   "metadata": {},
   "source": [
    "QUESTION:\n",
    "    11. In a for loop, what is the difference between range(10), range(0, 10), and range(0, 10, 1)?\n",
    "\n",
    "ANSWER:\n",
    "    There is no difference between range(10), range(0, 10), and range(0, 10, 1). \n",
    "    All itterate through the values 0,1,2,3,4,5,6,7,8 and 9\n",
    "    The general syntax range() is range(start, stop[, step])"
   ]
  },
  {
   "cell_type": "markdown",
   "id": "296fa360",
   "metadata": {},
   "source": [
    "QUESTION:\n",
    "    12. Write a short program that prints the numbers 1 to 10 using a for loop. Then write an equivalent program that prints the numbers 1 to 10 using a while loop.\n",
    "\n",
    "ANSWER:"
   ]
  },
  {
   "cell_type": "code",
   "execution_count": null,
   "id": "29d03d9e",
   "metadata": {},
   "outputs": [],
   "source": [
    "# ANSWER\n",
    "\n",
    "# for loop\n",
    "print (\"----Using 'for loop'-------\")\n",
    "for i in range(1,11,1):\n",
    "    print (i)\n",
    "print ('\\n')   \n",
    "\n",
    "# while loop\n",
    "i = 1\n",
    "print (\"----Using 'while loop'-------\")\n",
    "while (i <= 10):\n",
    "    print (i)\n",
    "    i += 1"
   ]
  },
  {
   "cell_type": "markdown",
   "id": "1b88dcf9",
   "metadata": {},
   "source": [
    "QUESTION:\n",
    "    13. If you had a function named bacon() inside a module named spam, how would you call it after importing spam?\n",
    "ANSWER:\n",
    "    smap.bacon()"
   ]
  }
 ],
 "metadata": {
  "kernelspec": {
   "display_name": "Python 3 (ipykernel)",
   "language": "python",
   "name": "python3"
  },
  "language_info": {
   "codemirror_mode": {
    "name": "ipython",
    "version": 3
   },
   "file_extension": ".py",
   "mimetype": "text/x-python",
   "name": "python",
   "nbconvert_exporter": "python",
   "pygments_lexer": "ipython3",
   "version": "3.9.12"
  }
 },
 "nbformat": 4,
 "nbformat_minor": 5
}
