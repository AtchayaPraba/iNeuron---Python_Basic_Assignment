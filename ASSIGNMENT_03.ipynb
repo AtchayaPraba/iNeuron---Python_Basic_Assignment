{
 "cells": [
  {
   "cell_type": "markdown",
   "id": "79eae11d",
   "metadata": {},
   "source": [
    "# ASSIGNMENT_03"
   ]
  },
  {
   "cell_type": "markdown",
   "id": "a71be0c8",
   "metadata": {},
   "source": [
    "QUESTION:\n",
    "    1. Why are functions advantageous to have in your programs?\n",
    "\n",
    "ANSWER:\n",
    "    The advantages of using functions are:\n",
    "        1. Reducing duplication of code\n",
    "        2. Decomposing complex problems into simpler pieces\n",
    "        3. Improving clarity of the code\n",
    "        4. Reuse of code\n",
    "        5. Information hiding"
   ]
  },
  {
   "cell_type": "markdown",
   "id": "295e2c94",
   "metadata": {},
   "source": [
    "QUESTION:\n",
    "    2. When does the code in a function run: when it's specified or when it's called?\n",
    "\n",
    "ANSWER:\n",
    "    The code in a function run: only when it's \"called\""
   ]
  },
  {
   "cell_type": "raw",
   "id": "bc071654",
   "metadata": {},
   "source": [
    "QUESTION:\n",
    "    3. What statement creates a function?\n",
    "\n",
    "ANSWER:\n",
    "    Syntax to create a function: \n",
    "        def function_name ( arg1, arg2, ..., *args, **kargs) :\n",
    "            ......\n",
    "            # function body\n",
    "            ......"
   ]
  },
  {
   "cell_type": "markdown",
   "id": "165a976f",
   "metadata": {},
   "source": [
    "QUESTION:\n",
    "    4. What is the difference between a function and a function call?\n",
    "\n",
    "ANSWER:\n",
    "    Function:\n",
    "        A function is a block of code that does a particular operation and returns a result. \n",
    "        It usually accepts inputs as parameters and returns a result. \n",
    "        The parameters are not mandatory.\n",
    "    Function call:\n",
    "        A function call is the code used to pass control to a function."
   ]
  },
  {
   "cell_type": "code",
   "execution_count": 1,
   "id": "fbc26967",
   "metadata": {},
   "outputs": [
    {
     "name": "stdout",
     "output_type": "stream",
     "text": [
      "Hello Guest! \n",
      "\tWelcome to Full Stack Data Science.\n",
      "Hello XYZ! \n",
      "\tWelcome to Full Stack Data Science.\n"
     ]
    }
   ],
   "source": [
    "# Example:\n",
    "\n",
    "# function\n",
    "def welcome_message (user_name = \"Guest\"):\n",
    "    print (\"Hello\", user_name+\"!\", \"\\n\\tWelcome to Full Stack Data Science.\")\n",
    "\n",
    "# function call\n",
    "welcome_message()\n",
    "welcome_message(\"XYZ\")"
   ]
  },
  {
   "cell_type": "markdown",
   "id": "0f801ec1",
   "metadata": {},
   "source": [
    "QUESTION:\n",
    "    5. How many global scopes are there in a Python program? How many local scopes?\n",
    "\n",
    "ANSWER:\n",
    "    There is one global scope, and a local scope is created whenever a function is called."
   ]
  },
  {
   "cell_type": "markdown",
   "id": "13dd2db0",
   "metadata": {},
   "source": [
    "QUESTION:\n",
    "    6. What happens to variables in a local scope when the function call returns?\n",
    "\n",
    "ANSWER:\n",
    "    When a function returns, the local scope is destroyed, and all the variables in it are forgotten. \n",
    "    They are again initiated only when the function is called again."
   ]
  },
  {
   "cell_type": "markdown",
   "id": "7f25596f",
   "metadata": {},
   "source": [
    "QUESTION:\n",
    "    7. What is the concept of a return value? Is it possible to have a return value in an expression?\n",
    "\n",
    "ANSWER:\n",
    "    1. A return statement is used to end the execution of the function call and “returns” the result \n",
    "    2. result: value of the expression following the return keyword.\n",
    "    3. The statements after the return statements are not executed. \n",
    "    4. If the return statement is without any expression, then the special value None is returned. \n",
    "    5. A return statement is overall used to invoke a function so that the passed statements can be executed.\n",
    "    6. Return statement can not be used outside the function.\n",
    "    \n",
    "    A return value can be used as part of an expression."
   ]
  },
  {
   "cell_type": "markdown",
   "id": "76489b45",
   "metadata": {},
   "source": [
    "QUESTION:\n",
    "    8. If a function does not have a return statement, what is the return value of a call to that function?\n",
    "\n",
    "ANSWER:\n",
    "    If there is no return statement for a function, its return value is None."
   ]
  },
  {
   "cell_type": "markdown",
   "id": "32fbb3be",
   "metadata": {},
   "source": [
    "QUESTION:\n",
    "    9. How do you make a function variable refer to the global variable?\n",
    "\n",
    "ANSWER:\n",
    "    To refer to a global variable in a function, the global keyword can be used.\n",
    "    This declare which variables are global,"
   ]
  },
  {
   "cell_type": "code",
   "execution_count": 2,
   "id": "0258a02f",
   "metadata": {},
   "outputs": [
    {
     "data": {
      "text/plain": [
       "'Foo!!!'"
      ]
     },
     "execution_count": 2,
     "metadata": {},
     "output_type": "execute_result"
    }
   ],
   "source": [
    "# Example\n",
    "\n",
    "def create_global_variable():\n",
    "    global global_variable # must declare it to be a global first\n",
    "    # modifications are thus reflected on the module's global scope\n",
    "    global_variable = 'Foo'\n",
    "    \n",
    "create_global_variable()\n",
    "\n",
    "def use_global_variable():\n",
    "    return global_variable + '!!!'\n",
    "\n",
    "use_global_variable()"
   ]
  },
  {
   "cell_type": "markdown",
   "id": "d635cc94",
   "metadata": {},
   "source": [
    "QUESTION:\n",
    "    10. What is the data type of None?\n",
    "\n",
    "ANSWER:\n",
    "    The data type of None is \"NoneType\"."
   ]
  },
  {
   "cell_type": "code",
   "execution_count": 3,
   "id": "d4152243",
   "metadata": {},
   "outputs": [
    {
     "data": {
      "text/plain": [
       "NoneType"
      ]
     },
     "execution_count": 3,
     "metadata": {},
     "output_type": "execute_result"
    }
   ],
   "source": [
    "# ANSWER\n",
    "type(None)"
   ]
  },
  {
   "cell_type": "markdown",
   "id": "995c0507",
   "metadata": {},
   "source": [
    "QUESTION:\n",
    "    11. What does the sentence import areallyourpetsnamederic do?\n",
    "\n",
    "ANSWER:\n",
    "    There is no such module called \"areallyourpetsnamederic\". Its error statement. Hence, nothing is imported."
   ]
  },
  {
   "cell_type": "code",
   "execution_count": 4,
   "id": "a013f827",
   "metadata": {},
   "outputs": [
    {
     "ename": "ModuleNotFoundError",
     "evalue": "No module named 'areallyourpetsnamederic'",
     "output_type": "error",
     "traceback": [
      "\u001b[1;31m---------------------------------------------------------------------------\u001b[0m",
      "\u001b[1;31mModuleNotFoundError\u001b[0m                       Traceback (most recent call last)",
      "Input \u001b[1;32mIn [4]\u001b[0m, in \u001b[0;36m<cell line: 3>\u001b[1;34m()\u001b[0m\n\u001b[0;32m      1\u001b[0m \u001b[38;5;66;03m# ANSWER\u001b[39;00m\n\u001b[1;32m----> 3\u001b[0m \u001b[38;5;28;01mimport\u001b[39;00m \u001b[38;5;21;01mareallyourpetsnamederic\u001b[39;00m\n",
      "\u001b[1;31mModuleNotFoundError\u001b[0m: No module named 'areallyourpetsnamederic'"
     ]
    }
   ],
   "source": [
    "# ANSWER\n",
    "\n",
    "import areallyourpetsnamederic"
   ]
  },
  {
   "cell_type": "markdown",
   "id": "1e1c7afa",
   "metadata": {},
   "source": [
    "QUESTION:\n",
    "    12. If you had a bacon() feature in a spam module, what would you call it after importing spam?\n",
    "\n",
    "ANSWER:\n",
    "    spam.bacon()"
   ]
  },
  {
   "cell_type": "markdown",
   "id": "a2f2ae6f",
   "metadata": {},
   "source": [
    "QUESTION:\n",
    "    13. What can you do to save a programme from crashing if it encounters an error?\n",
    "\n",
    "ANSWER:\n",
    "    A programme can be saved from crashing by applying the \"Interrupt the Kernel\" option."
   ]
  },
  {
   "cell_type": "markdown",
   "id": "6196740a",
   "metadata": {},
   "source": [
    "QUESTION:\n",
    "    14. What is the purpose of the try clause? What is the purpose of the except clause?\n",
    "    \n",
    "ANSWER:\n",
    "    1. The try block lets you test a block of code for errors.\n",
    "    2. The except block lets you handle the error when there is error in try block.\n",
    "    3. The else block lets you execute code when there is no error in the try block.\n",
    "    4. The finally block lets you execute code, regardless of the result of the try- and except blocks.\n",
    "    \n",
    "    purpose of the try clause:\n",
    "        1. First, the try clause (the statement(s) between the try and except keywords) is executed.\n",
    "        2. If no exception occurs, the except clause is skipped and execution of the try statement is finished.\n",
    "    purpose of the except clause:\n",
    "        1. If an exception occurs during execution of the try clause, the rest of the clause is skipped. \n",
    "        2. Then, if its type matches the exception named after the except keyword, the except clause is executed, and then execution continues after the try/except block.\n",
    "        3. If an exception occurs which does not match the exception named in the except clause, it is passed on to outer try statements; if no handler is found, it is an unhandled exception and execution stops.\n",
    "        4. A try statement can have more than one except clause."
   ]
  },
  {
   "cell_type": "code",
   "execution_count": 5,
   "id": "3a5b0d50",
   "metadata": {},
   "outputs": [
    {
     "name": "stdout",
     "output_type": "stream",
     "text": [
      "Hello\n",
      "try clause executed successfully\n"
     ]
    }
   ],
   "source": [
    "# Example:\n",
    "\n",
    "try:\n",
    "    print(\"Hello\")\n",
    "except Exception as e:\n",
    "    print (e)\n",
    "    print (\"error clause is executed\")\n",
    "else: \n",
    "    print (\"try clause executed successfully\")\n",
    "finally:\n",
    "    (\"End of code\")"
   ]
  },
  {
   "cell_type": "code",
   "execution_count": 6,
   "id": "770ec70b",
   "metadata": {},
   "outputs": [
    {
     "name": "stdout",
     "output_type": "stream",
     "text": [
      "--------\"abc.txt\" does not exist in my dir-------- \n",
      "\n",
      "[Errno 2] No such file or directory: 'abc.txt'\n",
      "error clause is executed\n"
     ]
    }
   ],
   "source": [
    "# Example:\n",
    "\n",
    "try:\n",
    "    print ('\"abc.txt\" does not exist in my dir'.center(50,\"-\"),'\\n')\n",
    "    with open(\"abc.txt\", \"r\") as file:\n",
    "        print(file.read())\n",
    "except Exception as e:\n",
    "    print (e)\n",
    "    print (\"error clause is executed\")\n",
    "else: \n",
    "    print (\"try clause executed successfully\")\n",
    "finally:\n",
    "    (\"End of code\")"
   ]
  }
 ],
 "metadata": {
  "kernelspec": {
   "display_name": "Python 3 (ipykernel)",
   "language": "python",
   "name": "python3"
  },
  "language_info": {
   "codemirror_mode": {
    "name": "ipython",
    "version": 3
   },
   "file_extension": ".py",
   "mimetype": "text/x-python",
   "name": "python",
   "nbconvert_exporter": "python",
   "pygments_lexer": "ipython3",
   "version": "3.9.12"
  }
 },
 "nbformat": 4,
 "nbformat_minor": 5
}
