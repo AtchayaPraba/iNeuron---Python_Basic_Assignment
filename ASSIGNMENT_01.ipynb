{
 "cells": [
  {
   "cell_type": "markdown",
   "id": "05bc431e",
   "metadata": {},
   "source": [
    "# ASSIGNMENT_01"
   ]
  },
  {
   "cell_type": "markdown",
   "id": "2c9fde3a",
   "metadata": {},
   "source": [
    "QUESTION:\n",
    "    1. In the below elements which of them are values or an expression? eg:- values can be integer or string and expressions will be mathematical operators.\n",
    "    * \n",
    "    'hello'\n",
    "    -87.8\n",
    "    - \n",
    "    / \n",
    "\n",
    "    6 \n",
    "\n",
    "\n",
    "ANSWER:\n",
    "    1. * --> is a expression (a mathematical operator)\n",
    "    2. 'hello' --> is a value (a sting)\n",
    "    3. -87.8 --> is a value (an float value)\n",
    "    4. - --> is a expression (a mathematical operator)\n",
    "    5. / --> is a expression (a mathematical operator)\n",
    "    6.   --> a white space or new line is a value (a string)\n",
    "    7. 6 --> is a value (an integer value)"
   ]
  },
  {
   "cell_type": "markdown",
   "id": "ef43761e",
   "metadata": {},
   "source": [
    "QUESTION:\n",
    "    2. What is the difference between string and variable?\n",
    "\n",
    "\n",
    "ANSWER:\n",
    "    Variable:\n",
    "        1. Variable are used to store data.\n",
    "        2. Any type of data (Eg: String, Integer, Float) or collection of datum (Eg: list, set, tuple, dictionary, array) can be assigned with a variable.\n",
    "        3. Variable can be considered as an empty box that you fill with some data or value\n",
    "        4. Once a variable is declared and assinged to a data or collection of datum, the data or collection of datum can be called for further processing using the assigned variable name.\n",
    "        5. Rules for Python variables:\n",
    "            A variable name must start with a letter or the underscore character\n",
    "            A variable name cannot start with a number\n",
    "            A variable name can only contain alpha-numeric characters and underscores (A-z, 0-9, and _ )\n",
    "            Variable names are case-sensitive (age, Age and AGE are three different variables)\n",
    "\n",
    "    String:\n",
    "        1. A \"string\" is a datatype usually enclosed within \"\" or ''. \n",
    "        2. A string is a literal text string, (Eg: \"Hello World\", \"123\", \"abc, xyz, uvw, 123\", 'Data Science')\n",
    "        3. Some special characters enclosed within \"\" or '' is also considered as string. (Eg: \"***\",'++++.***',\"--abc\")\n",
    "        4. In Python strings, the backslash \"\\\" is a special character, also called the \"escape\" character. (Eg: It is used in representing certain whitespace characters: \"\\t\" is a tab, \"\\n\" is a newline, and \"\\r\" is a carriage return)"
   ]
  },
  {
   "cell_type": "code",
   "execution_count": 1,
   "id": "2c614d15",
   "metadata": {},
   "outputs": [
    {
     "name": "stdout",
     "output_type": "stream",
     "text": [
      "Hello Everyone!, \n",
      "\tWelcome to 'Full Stack Data Science' course. \n",
      "\tThis is the 1st Python Basic Assignment\n",
      "\n",
      "\n",
      "Good evening. Have a nice day!!\n"
     ]
    }
   ],
   "source": [
    "# Example\n",
    "Welcome_Meaasage1 = \"Hello Everyone!, \\n\\tWelcome to 'Full Stack Data Science' course. \\n\\tThis is the 1st Python Basic Assignment\"\n",
    "welcome_meaasage1 = \"Good evening. Have a nice day!!\"\n",
    "print(Welcome_Meaasage1)\n",
    "print('\\n')\n",
    "print(welcome_meaasage1)"
   ]
  },
  {
   "cell_type": "markdown",
   "id": "83e9260a",
   "metadata": {},
   "source": [
    "QUESTION:\n",
    "    3. Describe three different data types.\n",
    "\n",
    "ANSWER:\n",
    "    1. Numeric:\n",
    "        Represents numeric value like \"integer\" (int), \"floating point values\" (foat) and \"complex numbers\" (complex)\n",
    "    2. Sequence Type:\n",
    "        Represents the ordered collection of similar or different data types. \"String\" (str -- \"\" or '') , \"List\" (list -- []) and \"Tuple\" (tuple -- ()) are the Sequencial Data Type.\n",
    "        string, list and tuple are \"iterable\"\n",
    "        string and list are \"mutable\", where as tuple are \"immutable\".\n",
    "    3. Set:\n",
    "        A \"set\" (set -- {}) is an \"unordered\" collection of data type that is \"iterable\", \"mutable\" and has \"no duplicate\" elements.\n",
    "    4. Dictionary:\n",
    "        A \"Dictionary\" (dict -- {key:value}) is a unordered collection of data values, used to store data in a \"key:value\" pair format. The \"keys\" has to be unique. Dictionaries themselves are \"iterable\" and \"mutable\".\n",
    "    3. Boolean:\n",
    "         two built-in values, True (1) or False (0)"
   ]
  },
  {
   "cell_type": "code",
   "execution_count": 2,
   "id": "bfd611f1",
   "metadata": {},
   "outputs": [
    {
     "name": "stdout",
     "output_type": "stream",
     "text": [
      "integer\n",
      "20 <class 'int'>\n",
      "-100 <class 'int'>\n",
      "\n",
      "\n",
      "floating point values\n",
      "20.0 <class 'float'>\n",
      "-10.37 <class 'float'>\n",
      "\n",
      "\n",
      "complex numbers\n",
      "(4+7j) <class 'complex'>\n",
      "(-10-249j) <class 'complex'>\n",
      "\n",
      "\n"
     ]
    }
   ],
   "source": [
    "# Example\n",
    "\n",
    "# Numeric\n",
    "\n",
    "# integer\n",
    "a = 20\n",
    "b = -100\n",
    "print (\"integer\")\n",
    "print (a, type(a))\n",
    "print (b ,type(b))\n",
    "print (\"\\n\")\n",
    "# float\n",
    "c = 20.00\n",
    "d = -10.37\n",
    "print (\"floating point values\")\n",
    "print (c ,type(c))\n",
    "print (d, type(d))\n",
    "print (\"\\n\")\n",
    "# complex numbers\n",
    "e = 4+7j\n",
    "f = -10-249j\n",
    "print (\"complex numbers\")\n",
    "print (e ,type(e))\n",
    "print (f, type(f))\n",
    "print (\"\\n\")"
   ]
  },
  {
   "cell_type": "code",
   "execution_count": 3,
   "id": "bc28dcef",
   "metadata": {},
   "outputs": [
    {
     "name": "stdout",
     "output_type": "stream",
     "text": [
      "abc xyz, 12 % good <class 'str'>\n",
      "['abc', 123, ['a1', 'a2'], 123] <class 'list'>\n",
      "('abc', 123, ['a1', 'a2'], 123) <class 'tuple'>\n",
      "{123, 'abc'} <class 'set'>\n",
      "{'a': 123, 'b': 456, 'c': 789} <class 'dict'>\n"
     ]
    }
   ],
   "source": [
    "# Example \n",
    "\n",
    "# Sequence Type, Set and Dictionary\n",
    "\n",
    "string1 = \"abc xyz, 12 % good\"\n",
    "list1 = [\"abc\", 123, [\"a1\", \"a2\"], 123]\n",
    "tuple1 = (\"abc\", 123, [\"a1\", \"a2\"], 123)\n",
    "set1 = {\"abc\", 123, 123}\n",
    "dict1 = {\"a\":123, \"b\":456, \"c\":789}\n",
    "\n",
    "print(string1, type(string1))\n",
    "print(list1, type(list1))\n",
    "print(tuple1, type(tuple1))\n",
    "print(set1, type(set1))\n",
    "print(dict1, type(dict1))"
   ]
  },
  {
   "cell_type": "code",
   "execution_count": 4,
   "id": "8511aa5f",
   "metadata": {},
   "outputs": [
    {
     "name": "stdout",
     "output_type": "stream",
     "text": [
      "a\n",
      "b\n",
      "c\n",
      " \n",
      "x\n",
      "y\n",
      "z\n",
      ",\n",
      " \n",
      "1\n",
      "2\n",
      " \n",
      "%\n",
      " \n",
      "g\n",
      "o\n",
      "o\n",
      "d\n",
      "abc\n",
      "123\n",
      "['a1', 'a2']\n",
      "123\n",
      "abc\n",
      "123\n",
      "['a1', 'a2']\n",
      "123\n",
      "123\n",
      "abc\n",
      "a\n",
      "b\n",
      "c\n"
     ]
    }
   ],
   "source": [
    "# Example \n",
    "\n",
    "# Sequence Type, Set and Dictionary are \"iterable\"\n",
    "\n",
    "# String\n",
    "string1 = \"abc xyz, 12 % good\"\n",
    "for i in string1:\n",
    "    print(i)\n",
    "# List \n",
    "list1 = [\"abc\", 123, [\"a1\", \"a2\"], 123]\n",
    "for i in list1:\n",
    "    print (i)\n",
    "# Tuple\n",
    "tuple1 = (\"abc\", 123, [\"a1\", \"a2\"], 123)\n",
    "for i in tuple1:\n",
    "    print (i)\n",
    "# Set    \n",
    "set1 = {\"abc\", 123, 123}\n",
    "for i in set1:\n",
    "    print (i)\n",
    "# Dictionary\n",
    "dict1 = {\"a\":123, \"b\":456, \"c\":789}\n",
    "for i in dict1:\n",
    "    print (i)"
   ]
  },
  {
   "cell_type": "code",
   "execution_count": 5,
   "id": "07925ba4",
   "metadata": {},
   "outputs": [
    {
     "name": "stdout",
     "output_type": "stream",
     "text": [
      "True <class 'bool'>\n",
      "False <class 'bool'>\n",
      "a+b = 1\n",
      "a*b = 0\n"
     ]
    }
   ],
   "source": [
    "# Example \n",
    "\n",
    "# Boolean\n",
    "a = True\n",
    "b = False\n",
    "\n",
    "print (a, type(a))\n",
    "print (b, type(b))\n",
    "\n",
    "print(\"a+b =\", a+b)\n",
    "print(\"a*b =\", a*b)"
   ]
  },
  {
   "cell_type": "markdown",
   "id": "148cab29",
   "metadata": {},
   "source": [
    "QUESTION:\n",
    "    4. What is an expression made up of? What do all expressions do?\n",
    "\n",
    "ANSWER:\n",
    "    1. Expressions are made up of variables, operators and methods\n",
    "    2. All expressions evaluates to a single value"
   ]
  },
  {
   "cell_type": "code",
   "execution_count": 6,
   "id": "7b3f7017",
   "metadata": {},
   "outputs": [
    {
     "name": "stdout",
     "output_type": "stream",
     "text": [
      "a+b = 300\n",
      "sum(d)*(b-a) = 30000\n"
     ]
    }
   ],
   "source": [
    "# Example\n",
    "\n",
    "a = 100\n",
    "b = 200\n",
    "\n",
    "c = a+b\n",
    "print (\"a+b =\",c)\n",
    "\n",
    "d = [10,20,30,40,50,60,90]\n",
    "e = sum(d)*(b-a)\n",
    "print (\"sum(d)*(b-a) =\",e)"
   ]
  },
  {
   "cell_type": "markdown",
   "id": "c6fe3977",
   "metadata": {},
   "source": [
    "QUESTION:\n",
    "    5. This assignment statements, like spam = 10. What is the difference between an expression and a statement?\n",
    "\n",
    "ANSWER:\n",
    "    1. Statements: represent an \"action\" or \"command\" (Eg: \"print statements\", \"assignment statements\")\n",
    "    2. Expression: is a combination of variables, operations, values and methods that \"yields a result value\". "
   ]
  },
  {
   "cell_type": "code",
   "execution_count": 7,
   "id": "946e1c95",
   "metadata": {},
   "outputs": [
    {
     "name": "stdout",
     "output_type": "stream",
     "text": [
      "Hello All\n",
      "200 25 35\n",
      "a+b+13 = 238\n"
     ]
    }
   ],
   "source": [
    "# Example\n",
    "\n",
    "# Statements\n",
    "\n",
    "# print statements\n",
    "print (\"Hello All\")\n",
    "\n",
    "#assignment statements\n",
    "a = 200\n",
    "b, c = 25, 35\n",
    "print(a,b,c)\n",
    "\n",
    "# Expression\n",
    "c = a+b+13\n",
    "print (\"a+b+13 =\",c)"
   ]
  },
  {
   "cell_type": "markdown",
   "id": "b6416f87",
   "metadata": {},
   "source": [
    "QUESTION:\n",
    "    6. After running the following code, what does the variable bacon contain?\n",
    "    bacon = 22\n",
    "    bacon + 1\n",
    "\n",
    "ANSWER:\n",
    "    The variable contains the value for integer 22."
   ]
  },
  {
   "cell_type": "code",
   "execution_count": 8,
   "id": "59d89126",
   "metadata": {},
   "outputs": [
    {
     "name": "stdout",
     "output_type": "stream",
     "text": [
      "22\n"
     ]
    }
   ],
   "source": [
    "# ANSWER:\n",
    "\n",
    "bacon = 22\n",
    "bacon + 1\n",
    "\n",
    "print(bacon)"
   ]
  },
  {
   "cell_type": "markdown",
   "id": "a7aa99e8",
   "metadata": {},
   "source": [
    "QUESTION:\n",
    "    7. What should the values of the following two terms be?\n",
    "    'spam' + 'spamspam'\n",
    "    'spam' * 3\n",
    "\n",
    "ANSWER:\n",
    "    1. 'spam' + 'spamspam' --> 'spamspamspam'\n",
    "    2. 'spam' * 3 --> 'spamspamspam'"
   ]
  },
  {
   "cell_type": "code",
   "execution_count": 9,
   "id": "0c54d7e1",
   "metadata": {},
   "outputs": [
    {
     "name": "stdout",
     "output_type": "stream",
     "text": [
      "spamspamspam\n",
      "spamspamspam\n"
     ]
    }
   ],
   "source": [
    "# ANSWER:\n",
    "\n",
    "print('spam' + 'spamspam')\n",
    "print('spam' * 3)"
   ]
  },
  {
   "cell_type": "markdown",
   "id": "ce5b0bec",
   "metadata": {},
   "source": [
    "QUESTION:\n",
    "    8. Why is eggs a valid variable name while 100 is invalid?\n",
    "\n",
    "ANSWER:\n",
    "    There are rules for declaring a Python variables:\n",
    "        1. A variable name must start with a letter or the underscore character\n",
    "        2. A variable name cannot start with a number\n",
    "        3. A variable name can only contain alpha-numeric characters and underscores (A-z, 0-9, and _ )\n",
    "        3. Variable names are case-sensitive (age, Age and AGE are three different variables)\n",
    "    \n",
    "    Since, \n",
    "    \"eggs\" is a string (according to rule number 1) it is a valid variable name.\n",
    "    \"100\" is an integer (according to rule number 2) it is a invalid variable name."
   ]
  },
  {
   "cell_type": "markdown",
   "id": "e1786cb0",
   "metadata": {},
   "source": [
    "QUESTION:\n",
    "    9. What three functions can be used to get the integer, floating-point number, or string version of a value?\n",
    "\n",
    "ANSWER:\n",
    "    1. integer = int()\n",
    "    2. floating-point number = float()\n",
    "    3. string = str()"
   ]
  },
  {
   "cell_type": "code",
   "execution_count": 10,
   "id": "6697a82e",
   "metadata": {},
   "outputs": [
    {
     "name": "stdout",
     "output_type": "stream",
     "text": [
      "200.0 <class 'float'>\n",
      "200 <class 'str'>\n",
      "35 <class 'int'>\n",
      "110 <class 'int'>\n"
     ]
    }
   ],
   "source": [
    "# Example\n",
    "\n",
    "a = 200\n",
    "b = 35.6\n",
    "c = \"110.33\"\n",
    "\n",
    "print(float(a), type(float(a)))\n",
    "print(str(a), type(str(a)))\n",
    "\n",
    "print(int(b), type(int(b)))\n",
    "\n",
    "print(int(float(c)), type(int(float(c))))\n"
   ]
  },
  {
   "cell_type": "markdown",
   "id": "eeee9388",
   "metadata": {},
   "source": [
    "QUESTION:\n",
    "    10. Why does this expression cause an error? How can you fix it?\n",
    "    'I have eaten ' + 99 + ' burritos.'\n",
    "    \n",
    "ANSWER:\n",
    "    A numeric (integer) and sequencial data type (string) can not be added togather.\n",
    "    Hence, convert the integer to a string using str() method and preform the addition."
   ]
  },
  {
   "cell_type": "code",
   "execution_count": 11,
   "id": "66cb56be",
   "metadata": {},
   "outputs": [
    {
     "data": {
      "text/plain": [
       "'I have eaten 99 burritos.'"
      ]
     },
     "execution_count": 11,
     "metadata": {},
     "output_type": "execute_result"
    }
   ],
   "source": [
    "# ANSWER \n",
    "'I have eaten ' + str(99) + ' burritos.'"
   ]
  },
  {
   "cell_type": "code",
   "execution_count": null,
   "id": "2cc68a0e",
   "metadata": {},
   "outputs": [],
   "source": []
  }
 ],
 "metadata": {
  "kernelspec": {
   "display_name": "Python 3 (ipykernel)",
   "language": "python",
   "name": "python3"
  },
  "language_info": {
   "codemirror_mode": {
    "name": "ipython",
    "version": 3
   },
   "file_extension": ".py",
   "mimetype": "text/x-python",
   "name": "python",
   "nbconvert_exporter": "python",
   "pygments_lexer": "ipython3",
   "version": "3.9.12"
  }
 },
 "nbformat": 4,
 "nbformat_minor": 5
}
