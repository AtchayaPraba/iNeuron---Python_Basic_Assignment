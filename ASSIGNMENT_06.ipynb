{
 "cells": [
  {
   "cell_type": "markdown",
   "id": "35c02641",
   "metadata": {},
   "source": [
    "# ASSIGNMENT_06"
   ]
  },
  {
   "cell_type": "markdown",
   "id": "a72ea1d9",
   "metadata": {},
   "source": [
    "QUESTION:\n",
    "    1. What are escape characters, and how do you use them?\n",
    "\n",
    "ANSWER:\n",
    "    1. To insert characters that are illegal in a string, use an escape character.\n",
    "    2. An escape character is a backslash \"\\\" followed by the character you want to insert."
   ]
  },
  {
   "cell_type": "code",
   "execution_count": 1,
   "id": "a1704aa3",
   "metadata": {},
   "outputs": [
    {
     "name": "stdout",
     "output_type": "stream",
     "text": [
      "Welcome to \"Full Stack Data Science\" course. It's a courese on Data Science\n"
     ]
    }
   ],
   "source": [
    "# Example\n",
    "\n",
    "a = \"Welcome to \\\"Full Stack Data Science\\\" course. It's a courese on Data Science\"\n",
    "print (a)"
   ]
  },
  {
   "cell_type": "markdown",
   "id": "79b20517",
   "metadata": {},
   "source": [
    "QUESTION:\n",
    "    2. What do the escape characters n and t stand for?\n",
    "\n",
    "ANSWER:\n",
    "    \"\\t\" --> Tab\n",
    "    \"\\n\" --> New Line"
   ]
  },
  {
   "cell_type": "markdown",
   "id": "5b966e3b",
   "metadata": {},
   "source": [
    "QUESTION:\n",
    "    3. What is the way to include backslash characters in a string?\n",
    "\n",
    "ANSWER:\n",
    "    \"\\\\\" can be used to include backslash."
   ]
  },
  {
   "cell_type": "markdown",
   "id": "69569b03",
   "metadata": {},
   "source": [
    "QUESTION:\n",
    "    4. The string \"Howl's Moving Castle\" is a correct value. Why isn't the single quote character in the word Howl's not escaped a problem?\n",
    "\n",
    "ANSWER:\n",
    "    1. \"Howl's Moving Castle\" is valid because, its enclosed within \"\" to mark the beginning and end of the string.    "
   ]
  },
  {
   "cell_type": "code",
   "execution_count": 2,
   "id": "7243edfa",
   "metadata": {},
   "outputs": [
    {
     "name": "stdout",
     "output_type": "stream",
     "text": [
      "20\n",
      "20\n"
     ]
    }
   ],
   "source": [
    "print(len(\"Howl's Moving Castle\"))\n",
    "print(len(\"Howl\\'s Moving Castle\"))"
   ]
  },
  {
   "cell_type": "markdown",
   "id": "1c05f1e7",
   "metadata": {},
   "source": [
    "QUESTION:\n",
    "    5. How do you write a string of newlines if you don't want to use the n character?\n",
    "\n",
    "ANSWER:\n",
    "    By usin \"Multistring\".\n",
    "    1.  A multiline string in Python begins and ends with either three single quotes or three double quotes. \n",
    "    2. Any quotes, tabs, or newlines in between the “triple quotes” are considered part of the string. \n",
    "    3. Python’s indentation rules for blocks do not apply to lines inside a multiline string."
   ]
  },
  {
   "cell_type": "code",
   "execution_count": 3,
   "id": "0ca58cc4",
   "metadata": {},
   "outputs": [
    {
     "name": "stdout",
     "output_type": "stream",
     "text": [
      "Dear Alice,\n",
      "\n",
      "Eve's cat has been arrested for catnapping, cat burglary, and extortion.\n",
      "\n",
      "Sincerely,\n",
      "Bob\n"
     ]
    }
   ],
   "source": [
    "# Example:\n",
    "print('''Dear Alice,\n",
    "\n",
    "Eve's cat has been arrested for catnapping, cat burglary, and extortion.\n",
    "\n",
    "Sincerely,\n",
    "Bob''')"
   ]
  },
  {
   "cell_type": "markdown",
   "id": "e4e60b6b",
   "metadata": {},
   "source": [
    "QUESTION:\n",
    "    6. What are the values of the given expressions?\n",
    "    'Hello, world!'[1]\n",
    "    'Hello, world!'[0:5]\n",
    "    'Hello, world!'[:5]\n",
    "    'Hello, world!'[3:]\n",
    "\n",
    "ANSWER:\n",
    "    'Hello, world!'[1] is --> e\n",
    "    'Hello, world!'[0:5] is --> Hello\n",
    "    'Hello, world!'[:5] is --> Hello\n",
    "    'Hello, world!'[3:] is --> lo, world!"
   ]
  },
  {
   "cell_type": "code",
   "execution_count": 4,
   "id": "012f66a7",
   "metadata": {},
   "outputs": [
    {
     "name": "stdout",
     "output_type": "stream",
     "text": [
      "'Hello, world!'[1] is --> e\n",
      "'Hello, world!'[0:5] is --> Hello\n",
      "'Hello, world!'[:5] is --> Hello\n",
      "'Hello, world!'[3:] is --> lo, world!\n"
     ]
    }
   ],
   "source": [
    "# ANSWER\n",
    "\n",
    "print(\"'Hello, world!'[1] is -->\", 'Hello, world!'[1])\n",
    "print(\"'Hello, world!'[0:5] is -->\", 'Hello, world!'[0:5])\n",
    "print(\"'Hello, world!'[:5] is -->\", 'Hello, world!'[:5])\n",
    "print(\"'Hello, world!'[3:] is -->\", 'Hello, world!'[3:])"
   ]
  },
  {
   "cell_type": "markdown",
   "id": "97aabd84",
   "metadata": {},
   "source": [
    "QUESTION:\n",
    "    7. What are the values of the following expressions?\n",
    "    'Hello'.upper()\n",
    "    'Hello'.upper().isupper()\n",
    "    'Hello'.upper().lower()\n",
    "\n",
    "ANSWER:\n",
    "    'Hello'.upper() is --> HELLO\n",
    "    'Hello'.upper().isupper() is --> True\n",
    "    'Hello'.upper().lower() is --> hello"
   ]
  },
  {
   "cell_type": "code",
   "execution_count": 5,
   "id": "79c8e961",
   "metadata": {},
   "outputs": [
    {
     "name": "stdout",
     "output_type": "stream",
     "text": [
      "'Hello'.upper() is --> HELLO\n",
      "'Hello'.upper().isupper() is --> True\n",
      "'Hello'.upper().lower() is --> hello\n"
     ]
    }
   ],
   "source": [
    "# ANSWER\n",
    "\n",
    "print(\"'Hello'.upper() is -->\", 'Hello'.upper())\n",
    "print(\"'Hello'.upper().isupper() is -->\", 'Hello'.upper().isupper())\n",
    "print(\"'Hello'.upper().lower() is -->\", 'Hello'.upper().lower())"
   ]
  },
  {
   "cell_type": "markdown",
   "id": "5fdd2fd2",
   "metadata": {},
   "source": [
    "QUESTION:\n",
    "    8. What are the values of the following expressions?\n",
    "'Remember, remember, the fifth of July.'.split()\n",
    "'-'.join('There can only one.'.split())\n",
    "\n",
    "ANSWER:\n",
    "    1. 'Remember, remember, the fifth of July.'.split() is ['Remember,', 'remember,', 'the', 'fifth', 'of', 'July.']\n",
    "    2. '-'.join('There can only one.'.split()) is There-can-only-one."
   ]
  },
  {
   "cell_type": "code",
   "execution_count": 6,
   "id": "64ab6972",
   "metadata": {},
   "outputs": [
    {
     "name": "stdout",
     "output_type": "stream",
     "text": [
      "['Remember,', 'remember,', 'the', 'fifth', 'of', 'July.']\n",
      "There-can-only-one.\n"
     ]
    }
   ],
   "source": [
    "# ANSWER\n",
    "\n",
    "print('Remember, remember, the fifth of July.'.split())\n",
    "print('-'.join('There can only one.'.split()))"
   ]
  },
  {
   "cell_type": "markdown",
   "id": "65219574",
   "metadata": {},
   "source": [
    "QUESTION:\n",
    "    9. What are the methods for right-justifying, left-justifying, and centering a string?\n",
    "\n",
    "ANSWER:\n",
    "    1. right-justifying --> .rjust() \n",
    "    2. left-justifying --> .ljust()\n",
    "    3. centering --> .center()"
   ]
  },
  {
   "cell_type": "code",
   "execution_count": 7,
   "id": "883694a6",
   "metadata": {},
   "outputs": [
    {
     "name": "stdout",
     "output_type": "stream",
     "text": [
      "centering:\n",
      " ------------Welcome to \"Full Stack Data Science\" course !------------- \n",
      "\n",
      "left-justifying:\n",
      " Welcome to \"Full Stack Data Science\" course !------------------------- \n",
      "\n",
      "right-justifying:\n",
      " -------------------------Welcome to \"Full Stack Data Science\" course ! \n",
      "\n"
     ]
    }
   ],
   "source": [
    "# Example\n",
    "\n",
    "txt = \"Welcome to \\\"Full Stack Data Science\\\" course !\"\n",
    "print (\"centering:\\n\", txt.center(70,\"-\"), '\\n')\n",
    "print (\"left-justifying:\\n\", txt.ljust(70,\"-\"), '\\n')\n",
    "print (\"right-justifying:\\n\", txt.rjust(70,\"-\"), '\\n')"
   ]
  },
  {
   "cell_type": "markdown",
   "id": "441aae40",
   "metadata": {},
   "source": [
    "QUESTION:\n",
    "    10. What is the best way to remove whitespace characters from the start or end?\n",
    "    \n",
    "ANSWER:\n",
    "    1. Use the \".strip()\" method to remove whitespace and characters from the beginning and the end of a string.\n",
    "    2. Use the \".lstrip()\" method to remove whitespace and characters only from the beginning of a string.\n",
    "    3. Use the \".rstrip()\" method to remove whitespace and characters only from the end of a string."
   ]
  },
  {
   "cell_type": "code",
   "execution_count": 8,
   "id": "0486460a",
   "metadata": {},
   "outputs": [
    {
     "name": "stdout",
     "output_type": "stream",
     "text": [
      "original string:\n",
      "      www. ineurondatasc.org www.  \n",
      "34\n",
      "remove whitespace and characters from the beginning and the end of a string:\n",
      " www. ineurondatasc.org www.\n",
      "27\n",
      "remove whitespace and characters only from the beginning of a string:\n",
      " www. ineurondatasc.org www.  \n",
      "29\n",
      "remove whitespace and characters only from the end of a string:\n",
      "      www. ineurondatasc.org www.\n",
      "32\n"
     ]
    }
   ],
   "source": [
    "# Example\n",
    "\n",
    "txt = \"     www. ineurondatasc.org www.  \"\n",
    "print(\"original string:\\n\", txt)\n",
    "print(len(txt))\n",
    "print (\"remove whitespace and characters from the beginning and the end of a string:\\n\", txt.strip())\n",
    "print(len(txt.strip()))\n",
    "print (\"remove whitespace and characters only from the beginning of a string:\\n\", txt.lstrip())\n",
    "print(len(txt.lstrip()))\n",
    "print (\"remove whitespace and characters only from the end of a string:\\n\", txt.rstrip())\n",
    "print(len(txt.rstrip()))"
   ]
  },
  {
   "cell_type": "code",
   "execution_count": null,
   "id": "cdbe5aa8",
   "metadata": {},
   "outputs": [],
   "source": []
  }
 ],
 "metadata": {
  "kernelspec": {
   "display_name": "Python 3 (ipykernel)",
   "language": "python",
   "name": "python3"
  },
  "language_info": {
   "codemirror_mode": {
    "name": "ipython",
    "version": 3
   },
   "file_extension": ".py",
   "mimetype": "text/x-python",
   "name": "python",
   "nbconvert_exporter": "python",
   "pygments_lexer": "ipython3",
   "version": "3.9.12"
  }
 },
 "nbformat": 4,
 "nbformat_minor": 5
}
