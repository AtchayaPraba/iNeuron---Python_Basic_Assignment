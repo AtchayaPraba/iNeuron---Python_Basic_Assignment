{
 "cells": [
  {
   "cell_type": "markdown",
   "id": "9e56dcb0",
   "metadata": {},
   "source": [
    "# ASSIGNMENT_05"
   ]
  },
  {
   "cell_type": "markdown",
   "id": "75716fe4",
   "metadata": {},
   "source": [
    "QUESTION:\n",
    "    1. What does an empty dictionary's code look like?\n",
    "    \n",
    "ANSWER:\n",
    "    {}"
   ]
  },
  {
   "cell_type": "markdown",
   "id": "842e0fbe",
   "metadata": {},
   "source": [
    "QUESTION:\n",
    "    2. What is the value of a dictionary value with the key 'foo' and the value 42?\n",
    "\n",
    "ANSWER:\n",
    "    value of the dictionary is 42"
   ]
  },
  {
   "cell_type": "code",
   "execution_count": 1,
   "id": "1390d948",
   "metadata": {},
   "outputs": [
    {
     "data": {
      "text/plain": [
       "dict_values([42])"
      ]
     },
     "execution_count": 1,
     "metadata": {},
     "output_type": "execute_result"
    }
   ],
   "source": [
    "# Example\n",
    "\n",
    "dic = {\"foo\":42}\n",
    "dic.values()"
   ]
  },
  {
   "cell_type": "markdown",
   "id": "0b1761d0",
   "metadata": {},
   "source": [
    "QUESTION:\n",
    "    3. What is the most significant distinction between a dictionary and a list?\n",
    "\n",
    "ANSWER:\n",
    "    List:\n",
    "        1. List is a collection of \"index-value\" pairs \n",
    "        2. List is created by placing elements in [ ] separated by commas “, “\n",
    "        3. The indices of list are integers starting from 0.\n",
    "        4. The elements are accessed via indices.\n",
    "        5. The order of the elements entered are maintained.\n",
    "    Dictionary:\n",
    "        1. Dictionary is a hashed structure of key and value pairs\n",
    "        2. Dictionary is created by placing elements in { } as “key”:”value”, each key value pair is separated by commas “, “\n",
    "        3. The keys of dictionary can be of any data type.\n",
    "        4. The elements are accessed via key-values.\n",
    "        5. There is no guarantee for maintaining order."
   ]
  },
  {
   "cell_type": "code",
   "execution_count": 2,
   "id": "e227edc1",
   "metadata": {},
   "outputs": [
    {
     "name": "stdout",
     "output_type": "stream",
     "text": [
      "list: [1, 2, 3, 'abc', ['x', 'y', 'z'], 999.99, (400.2+565j)]\n",
      "dictionary: {'color': ['red', 'gree', 'blue'], 'day': ['mon', 'wed', 'sat'], 12: 'a', (4+65j): 13}\n"
     ]
    }
   ],
   "source": [
    "# Example\n",
    "\n",
    "list1 = [1,2,3,'abc',['x','y','z'],999.99,400.2+565j]\n",
    "dict1 = {'color':['red', 'gree', 'blue'], 'day':['mon','wed','sat'], 12: 'a', 4+65j:13}\n",
    "\n",
    "print(\"list:\",list1)\n",
    "print(\"dictionary:\", dict1)"
   ]
  },
  {
   "cell_type": "markdown",
   "id": "30e76da5",
   "metadata": {},
   "source": [
    "QUESTION:\n",
    "    4. What happens if you try to access spam['foo'] if spam is {'bar': 100}?\n",
    "\n",
    "ANSWER:\n",
    "    An error occurs as there is no key called \"foo\" in spam."
   ]
  },
  {
   "cell_type": "code",
   "execution_count": 3,
   "id": "04e4fa3e",
   "metadata": {},
   "outputs": [
    {
     "ename": "KeyError",
     "evalue": "'foo'",
     "output_type": "error",
     "traceback": [
      "\u001b[1;31m---------------------------------------------------------------------------\u001b[0m",
      "\u001b[1;31mKeyError\u001b[0m                                  Traceback (most recent call last)",
      "Input \u001b[1;32mIn [3]\u001b[0m, in \u001b[0;36m<cell line: 3>\u001b[1;34m()\u001b[0m\n\u001b[0;32m      1\u001b[0m \u001b[38;5;66;03m# ANSWER\u001b[39;00m\n\u001b[0;32m      2\u001b[0m spam \u001b[38;5;241m=\u001b[39m {\u001b[38;5;124m'\u001b[39m\u001b[38;5;124mbar\u001b[39m\u001b[38;5;124m'\u001b[39m:\u001b[38;5;241m100\u001b[39m}\n\u001b[1;32m----> 3\u001b[0m \u001b[43mspam\u001b[49m\u001b[43m[\u001b[49m\u001b[38;5;124;43m'\u001b[39;49m\u001b[38;5;124;43mfoo\u001b[39;49m\u001b[38;5;124;43m'\u001b[39;49m\u001b[43m]\u001b[49m\n",
      "\u001b[1;31mKeyError\u001b[0m: 'foo'"
     ]
    }
   ],
   "source": [
    "# ANSWER\n",
    "spam = {'bar':100}\n",
    "spam['foo']"
   ]
  },
  {
   "cell_type": "markdown",
   "id": "4a0ecbc5",
   "metadata": {},
   "source": [
    "QUESTION:\n",
    "    5. If a dictionary is stored in spam, what is the difference between the expressions 'cat' in spam and 'cat' in spam.keys()?\n",
    "\n",
    "ANSWER:\n",
    "    There is no difference. Both statements check for 'cat' in the \"keys\" list the of dictionary."
   ]
  },
  {
   "cell_type": "code",
   "execution_count": 4,
   "id": "86eb632c",
   "metadata": {},
   "outputs": [],
   "source": [
    "# Example"
   ]
  },
  {
   "cell_type": "code",
   "execution_count": 5,
   "id": "d65922d0",
   "metadata": {},
   "outputs": [
    {
     "name": "stdout",
     "output_type": "stream",
     "text": [
      "False\n",
      "False\n"
     ]
    }
   ],
   "source": [
    "spam = {'dog':12, 'abc':'cat'}\n",
    "print('cat' in spam)\n",
    "print('cat' in spam.keys())"
   ]
  },
  {
   "cell_type": "code",
   "execution_count": 6,
   "id": "071050b7",
   "metadata": {},
   "outputs": [
    {
     "name": "stdout",
     "output_type": "stream",
     "text": [
      "True\n",
      "True\n"
     ]
    }
   ],
   "source": [
    "spam = {'cat':12, 'abc':'cat'}\n",
    "print('cat' in spam)\n",
    "print('cat' in spam.keys())"
   ]
  },
  {
   "cell_type": "markdown",
   "id": "ed959a6b",
   "metadata": {},
   "source": [
    "QUESTION:\n",
    "    6. If a dictionary is stored in spam, what is the difference between the expressions 'cat' in spam and 'cat' in spam.values()?\n",
    "\n",
    "ANSWER:\n",
    "    Expressions \"'cat' in spam\" checks for 'cat' in the list of keys of the give dictionary\n",
    "    Expressions \"'cat' in spam.values()\" checks for 'cat' in the list of values of the give dictionary"
   ]
  },
  {
   "cell_type": "code",
   "execution_count": 7,
   "id": "0471d960",
   "metadata": {},
   "outputs": [
    {
     "name": "stdout",
     "output_type": "stream",
     "text": [
      "False\n",
      "True\n",
      "True\n",
      "True\n"
     ]
    }
   ],
   "source": [
    "# Example\n",
    "spam = {'dog':12, 'abc':'cat'}\n",
    "print('cat' in spam)\n",
    "print('cat' in spam.values())\n",
    "\n",
    "spam = {'cat':12, 'abc':'cat'}\n",
    "print('cat' in spam)\n",
    "print('cat' in spam.values())"
   ]
  },
  {
   "cell_type": "markdown",
   "id": "90205ae7",
   "metadata": {},
   "source": [
    "QUESTION:\n",
    "    7. What is a shortcut for the following code?\n",
    "        if 'color' not in spam:\n",
    "        spam['color'] = 'black'\n",
    "\n",
    "ANSWER:\n",
    "    spam.setdefault('color','black')"
   ]
  },
  {
   "cell_type": "code",
   "execution_count": 8,
   "id": "dc72f4ab",
   "metadata": {},
   "outputs": [],
   "source": [
    "# Example"
   ]
  },
  {
   "cell_type": "code",
   "execution_count": 9,
   "id": "36df681c",
   "metadata": {},
   "outputs": [
    {
     "name": "stdout",
     "output_type": "stream",
     "text": [
      "{'color': 'red'}\n",
      "{'color': 'black'}\n"
     ]
    }
   ],
   "source": [
    "spam = {'color':'red'}\n",
    "print(spam)\n",
    "spam['color'] = 'black'\n",
    "print(spam)"
   ]
  },
  {
   "cell_type": "code",
   "execution_count": 10,
   "id": "f9913cd7",
   "metadata": {},
   "outputs": [
    {
     "name": "stdout",
     "output_type": "stream",
     "text": [
      "{'rose': 'flower'}\n",
      "{'rose': 'flower', 'color': 'black'}\n"
     ]
    }
   ],
   "source": [
    "spam = {'rose':'flower'}\n",
    "print(spam)\n",
    "spam['color'] = 'black'\n",
    "print(spam)"
   ]
  },
  {
   "cell_type": "code",
   "execution_count": 11,
   "id": "499e1738",
   "metadata": {},
   "outputs": [
    {
     "name": "stdout",
     "output_type": "stream",
     "text": [
      "{'color': 'red'}\n",
      "{'color': 'red'}\n"
     ]
    }
   ],
   "source": [
    "spam = {'color':'red'}\n",
    "print(spam)\n",
    "spam.setdefault('color','black')\n",
    "print(spam)"
   ]
  },
  {
   "cell_type": "markdown",
   "id": "a0e3e581",
   "metadata": {},
   "source": [
    "QUESTION:\n",
    "    8. How do you \"pretty print\" dictionary values using which module and function?\n",
    "ANSWER:\n",
    "    1. pprint\n",
    "    2. json\n",
    "    3. yaml"
   ]
  },
  {
   "cell_type": "code",
   "execution_count": 12,
   "id": "90b507f5",
   "metadata": {},
   "outputs": [],
   "source": [
    "# Example"
   ]
  },
  {
   "cell_type": "code",
   "execution_count": 13,
   "id": "4a281b49",
   "metadata": {},
   "outputs": [
    {
     "name": "stdout",
     "output_type": "stream",
     "text": [
      "-----------pretty print using 'pprint'------------\n",
      "[{'Age': '23', 'Country': 'USA', 'Name': 'John'},\n",
      " {'Age': '44', 'Country': 'Spain', 'Name': 'Jose'},\n",
      " {'Age': '29', 'Country': 'UK', 'Name': 'Anne'},\n",
      " {'Age': '35', 'Country': 'Japan', 'Name': 'Lee'}]\n"
     ]
    }
   ],
   "source": [
    "print (\"pretty print using 'pprint'\".center(50,\"-\"))\n",
    "\n",
    "import pprint\n",
    "\n",
    "dct_arr = [\n",
    "  {'Name': 'John', 'Age': '23', 'Country': 'USA'},\n",
    "  {'Name': 'Jose', 'Age': '44', 'Country': 'Spain'},\n",
    "  {'Name': 'Anne', 'Age': '29', 'Country': 'UK'},\n",
    "  {'Name': 'Lee', 'Age': '35', 'Country': 'Japan'}\n",
    "]\n",
    "\n",
    "pprint.pprint(dct_arr)"
   ]
  },
  {
   "cell_type": "code",
   "execution_count": 14,
   "id": "689a7c4c",
   "metadata": {},
   "outputs": [
    {
     "name": "stdout",
     "output_type": "stream",
     "text": [
      "------------pretty print using 'json'-------------\n",
      "[\n",
      "    {\n",
      "        \"Name\": \"John\",\n",
      "        \"Age\": \"23\",\n",
      "        \"Country\": \"USA\"\n",
      "    },\n",
      "    {\n",
      "        \"Name\": \"Jose\",\n",
      "        \"Age\": \"44\",\n",
      "        \"Country\": \"Spain\"\n",
      "    },\n",
      "    {\n",
      "        \"Name\": \"Anne\",\n",
      "        \"Age\": \"29\",\n",
      "        \"Country\": \"UK\"\n",
      "    },\n",
      "    {\n",
      "        \"Name\": \"Lee\",\n",
      "        \"Age\": \"35\",\n",
      "        \"Country\": \"Japan\"\n",
      "    }\n",
      "]\n"
     ]
    }
   ],
   "source": [
    "print (\"pretty print using 'json'\".center(50,\"-\"))\n",
    "\n",
    "import json\n",
    "\n",
    "dct_arr = [\n",
    "  {'Name': 'John', 'Age': '23', 'Country': 'USA'},\n",
    "  {'Name': 'Jose', 'Age': '44', 'Country': 'Spain'},\n",
    "  {'Name': 'Anne', 'Age': '29', 'Country': 'UK'},\n",
    "  {'Name': 'Lee', 'Age': '35', 'Country': 'Japan'}\n",
    "]\n",
    "\n",
    "print(json.dumps(dct_arr, sort_keys=False, indent=4))"
   ]
  },
  {
   "cell_type": "code",
   "execution_count": 15,
   "id": "d8c73a25",
   "metadata": {},
   "outputs": [
    {
     "name": "stdout",
     "output_type": "stream",
     "text": [
      "------------pretty print using 'json'-------------\n",
      "[\n",
      "    {\n",
      "        \"Name\": \"John\",\n",
      "        \"Age\": \"23\",\n",
      "        \"Residence\": {\n",
      "            \"Country\": \"USA\",\n",
      "            \"City\": \"New York\"\n",
      "        }\n",
      "    },\n",
      "    {\n",
      "        \"Name\": \"Jose\",\n",
      "        \"Age\": \"44\",\n",
      "        \"Residence\": {\n",
      "            \"Country\": \"Spain\",\n",
      "            \"City\": \"Madrid\"\n",
      "        }\n",
      "    },\n",
      "    {\n",
      "        \"Name\": \"Anne\",\n",
      "        \"Age\": \"29\",\n",
      "        \"Residence\": {\n",
      "            \"Country\": \"UK\",\n",
      "            \"City\": \"England\"\n",
      "        }\n",
      "    },\n",
      "    {\n",
      "        \"Name\": \"Lee\",\n",
      "        \"Age\": \"35\",\n",
      "        \"Residence\": {\n",
      "            \"Country\": \"Japan\",\n",
      "            \"City\": \"Osaka\"\n",
      "        }\n",
      "    }\n",
      "]\n"
     ]
    }
   ],
   "source": [
    "print (\"pretty print using 'json'\".center(50,\"-\"))\n",
    "\n",
    "import json\n",
    "\n",
    "dct_arr = [\n",
    "  {'Name': 'John', 'Age': '23', 'Residence': {'Country':'USA', 'City': 'New York'}},\n",
    "  {'Name': 'Jose', 'Age': '44', 'Residence': {'Country':'Spain', 'City': 'Madrid'}},\n",
    "  {'Name': 'Anne', 'Age': '29', 'Residence': {'Country':'UK', 'City': 'England'}},\n",
    "  {'Name': 'Lee', 'Age': '35', 'Residence': {'Country':'Japan', 'City': 'Osaka'}}\n",
    "]\n",
    "\n",
    "print(json.dumps(dct_arr, sort_keys=False, indent=4))"
   ]
  },
  {
   "cell_type": "code",
   "execution_count": 16,
   "id": "7259c681",
   "metadata": {},
   "outputs": [
    {
     "name": "stdout",
     "output_type": "stream",
     "text": [
      "------------pretty print using 'yaml'-------------\n",
      "- Name: John\n",
      "  Age: '23'\n",
      "  Residence:\n",
      "    Country: USA\n",
      "    City: New York\n",
      "- Name: Jose\n",
      "  Age: '44'\n",
      "  Residence:\n",
      "    Country: Spain\n",
      "    City: Madrid\n",
      "- Name: Anne\n",
      "  Age: '29'\n",
      "  Residence:\n",
      "    Country: UK\n",
      "    City: England\n",
      "- Name: Lee\n",
      "  Age: '35'\n",
      "  Residence:\n",
      "    Country: Japan\n",
      "    City: Osaka\n",
      "\n"
     ]
    }
   ],
   "source": [
    "print (\"pretty print using 'yaml'\".center(50,\"-\"))\n",
    "\n",
    "import yaml\n",
    "\n",
    "dct_arr = [\n",
    "  {'Name': 'John', 'Age': '23', 'Residence': {'Country':'USA', 'City': 'New York'}},\n",
    "  {'Name': 'Jose', 'Age': '44', 'Residence': {'Country':'Spain', 'City': 'Madrid'}},\n",
    "  {'Name': 'Anne', 'Age': '29', 'Residence': {'Country':'UK', 'City': 'England'}},\n",
    "  {'Name': 'Lee', 'Age': '35', 'Residence': {'Country':'Japan', 'City': 'Osaka'}}\n",
    "]\n",
    "\n",
    "print(yaml.dump(dct_arr, sort_keys=False, default_flow_style=False))"
   ]
  }
 ],
 "metadata": {
  "kernelspec": {
   "display_name": "Python 3 (ipykernel)",
   "language": "python",
   "name": "python3"
  },
  "language_info": {
   "codemirror_mode": {
    "name": "ipython",
    "version": 3
   },
   "file_extension": ".py",
   "mimetype": "text/x-python",
   "name": "python",
   "nbconvert_exporter": "python",
   "pygments_lexer": "ipython3",
   "version": "3.9.12"
  }
 },
 "nbformat": 4,
 "nbformat_minor": 5
}
