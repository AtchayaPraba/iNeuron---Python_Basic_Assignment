{
 "cells": [
  {
   "cell_type": "markdown",
   "id": "c5de968a",
   "metadata": {},
   "source": [
    "# ASSIGNMENT_04"
   ]
  },
  {
   "cell_type": "markdown",
   "id": "d1ae3846",
   "metadata": {},
   "source": [
    "QUESTION:\n",
    "    1. What exactly is []?\n",
    "\n",
    "ANSWER: \n",
    "    [] are box brackets. \n",
    "    The list (Sequential data type) is enclosed within []. \n",
    "    [] is an empty list"
   ]
  },
  {
   "cell_type": "code",
   "execution_count": 1,
   "id": "dd433a63",
   "metadata": {},
   "outputs": [
    {
     "name": "stdout",
     "output_type": "stream",
     "text": [
      "[]\n"
     ]
    }
   ],
   "source": [
    "# Example\n",
    "\n",
    "list1 = []\n",
    "\n",
    "print(list1)"
   ]
  },
  {
   "cell_type": "markdown",
   "id": "d8d6d0d2",
   "metadata": {},
   "source": [
    "QUESTION:\n",
    "    2. In a list of values stored in a variable called spam, how would you assign the value 'hello' as the third value? (Assume [2, 4, 6, 8, 10] are in spam.)\n",
    "\n",
    "ANSWER:"
   ]
  },
  {
   "cell_type": "code",
   "execution_count": 2,
   "id": "2a1bf099",
   "metadata": {},
   "outputs": [
    {
     "name": "stdout",
     "output_type": "stream",
     "text": [
      "--------------spam before assigning---------------\n",
      "[2, 4, 6, 8, 10]\n",
      "\n",
      "\n",
      "---------------spam after assigning---------------\n",
      "[2, 4, 'hello', 8, 10]\n"
     ]
    }
   ],
   "source": [
    "# ANSWER\n",
    "\n",
    "spam = [2, 4, 6, 8, 10]\n",
    "print (\"spam before assigning\".center(50,\"-\")) \n",
    "print (spam)\n",
    "print('\\n')\n",
    "print (\"spam after assigning\".center(50,\"-\"))\n",
    "spam[2] = 'hello'\n",
    "print (spam)"
   ]
  },
  {
   "cell_type": "markdown",
   "id": "4ba8a5d5",
   "metadata": {},
   "source": [
    "QUESTION:\n",
    "    Let's pretend the spam includes the list ['a', 'b', 'c', 'd'] for the next three queries.\n",
    "\n",
    "ANSWER:"
   ]
  },
  {
   "cell_type": "code",
   "execution_count": 3,
   "id": "f1fe5cc3",
   "metadata": {},
   "outputs": [],
   "source": [
    "# ANSWER\n",
    "\n",
    "spam = ['a', 'b', 'c', 'd']"
   ]
  },
  {
   "cell_type": "markdown",
   "id": "c19b98d5",
   "metadata": {},
   "source": [
    "QUESTION:\n",
    "    3. What is the value of spam[int(int('3' * 2) / 11)]?\n",
    "\n",
    "ANSWER:\n",
    "    'd'"
   ]
  },
  {
   "cell_type": "code",
   "execution_count": 4,
   "id": "073d3fcf",
   "metadata": {},
   "outputs": [
    {
     "data": {
      "text/plain": [
       "'d'"
      ]
     },
     "execution_count": 4,
     "metadata": {},
     "output_type": "execute_result"
    }
   ],
   "source": [
    "# ANSWER\n",
    "\n",
    "spam[int(int('3' * 2) / 11)]"
   ]
  },
  {
   "cell_type": "markdown",
   "id": "72871c66",
   "metadata": {},
   "source": [
    "QUESTION:\n",
    "    4. What is the value of spam[-1]?\n",
    "\n",
    "ANSWER:\n",
    "    'd'"
   ]
  },
  {
   "cell_type": "code",
   "execution_count": 5,
   "id": "83550b1d",
   "metadata": {},
   "outputs": [
    {
     "data": {
      "text/plain": [
       "'d'"
      ]
     },
     "execution_count": 5,
     "metadata": {},
     "output_type": "execute_result"
    }
   ],
   "source": [
    "# ANSWER\n",
    "\n",
    "spam[-1]"
   ]
  },
  {
   "cell_type": "markdown",
   "id": "62cc4b58",
   "metadata": {},
   "source": [
    "QUESTION:\n",
    "    5. What is the value of spam[:2]?\n",
    "\n",
    "ANSWER:\n",
    "    ['a', 'b']"
   ]
  },
  {
   "cell_type": "code",
   "execution_count": 6,
   "id": "1ff8bae0",
   "metadata": {},
   "outputs": [
    {
     "data": {
      "text/plain": [
       "['a', 'b']"
      ]
     },
     "execution_count": 6,
     "metadata": {},
     "output_type": "execute_result"
    }
   ],
   "source": [
    "# ANSWER\n",
    "\n",
    "spam[:2]"
   ]
  },
  {
   "cell_type": "markdown",
   "id": "7df73a48",
   "metadata": {},
   "source": [
    "QUESTION:\n",
    "    Let's pretend bacon has the list [3.14, 'cat,' 11, 'cat,' True] for the next three questions.\n",
    "    \n",
    "ANSWER:"
   ]
  },
  {
   "cell_type": "code",
   "execution_count": 7,
   "id": "a10d0b5b",
   "metadata": {},
   "outputs": [],
   "source": [
    "# ANSWER\n",
    "\n",
    "bacon = [3.14, 'cat', 11, 'cat', True]"
   ]
  },
  {
   "cell_type": "markdown",
   "id": "63930853",
   "metadata": {},
   "source": [
    "QUESTION:\n",
    "    6. What is the value of bacon.index('cat')?\n",
    "\n",
    "ANSWER:\n",
    "    1"
   ]
  },
  {
   "cell_type": "code",
   "execution_count": 8,
   "id": "cf241991",
   "metadata": {},
   "outputs": [
    {
     "data": {
      "text/plain": [
       "1"
      ]
     },
     "execution_count": 8,
     "metadata": {},
     "output_type": "execute_result"
    }
   ],
   "source": [
    "# ANSWER\n",
    "\n",
    "bacon.index('cat')"
   ]
  },
  {
   "cell_type": "markdown",
   "id": "2f246d52",
   "metadata": {},
   "source": [
    "QUESTION:\n",
    "    7. How does bacon.append(99) change the look of the list value in bacon?\n",
    "\n",
    "ANSWER:\n",
    "    [3.14, 'cat', 11, 'cat', True, 99]"
   ]
  },
  {
   "cell_type": "code",
   "execution_count": 9,
   "id": "61ef8048",
   "metadata": {},
   "outputs": [
    {
     "name": "stdout",
     "output_type": "stream",
     "text": [
      "--------------bacon before appending--------------\n",
      "[3.14, 'cat', 11, 'cat', True]\n",
      "\n",
      "\n",
      "--------------bacon after appending---------------\n",
      "[3.14, 'cat', 11, 'cat', True, 99]\n"
     ]
    }
   ],
   "source": [
    "# ANSWER\n",
    "\n",
    "print (\"bacon before appending\".center(50,\"-\")) \n",
    "print (bacon)\n",
    "print('\\n')\n",
    "print (\"bacon after appending\".center(50,\"-\"))\n",
    "bacon.append(99)\n",
    "print(bacon)"
   ]
  },
  {
   "cell_type": "markdown",
   "id": "7814b27d",
   "metadata": {},
   "source": [
    "QUESTION:\n",
    "    8. How does bacon.remove('cat') change the look of the list in bacon?\n",
    "\n",
    "ANSWER:\n",
    "    [3.14, 11, 'cat', True, 99]"
   ]
  },
  {
   "cell_type": "code",
   "execution_count": 10,
   "id": "1307c271",
   "metadata": {},
   "outputs": [
    {
     "name": "stdout",
     "output_type": "stream",
     "text": [
      "-----------bacon before removing 'cat'------------\n",
      "[3.14, 'cat', 11, 'cat', True, 99]\n",
      "\n",
      "\n",
      "------------bacon after removing 'cat'------------\n",
      "[3.14, 11, 'cat', True, 99]\n"
     ]
    }
   ],
   "source": [
    "# ANSWER\n",
    "\n",
    "print (\"bacon before removing 'cat'\".center(50,\"-\")) \n",
    "print (bacon)\n",
    "print('\\n')\n",
    "print (\"bacon after removing 'cat'\".center(50,\"-\"))\n",
    "bacon.remove('cat')\n",
    "print(bacon)"
   ]
  },
  {
   "cell_type": "markdown",
   "id": "8a212f58",
   "metadata": {},
   "source": [
    "QUESTION:\n",
    "    9. What are the list concatenation and list replication operators?\n",
    "\n",
    "ANSWER:\n",
    "    list concatenation operators: '+' and '+='\n",
    "    list replication operators: '*' and '*='"
   ]
  },
  {
   "cell_type": "code",
   "execution_count": 11,
   "id": "48378419",
   "metadata": {},
   "outputs": [
    {
     "name": "stdout",
     "output_type": "stream",
     "text": [
      "--------------------before concatenation operators--------------------\n",
      "[10, 20, 30] ['abc', 'uvw']\n",
      "--------------------after concatenation operators---------------------\n",
      "[10, 20, 30, 'abc', 'uvw']\n",
      "[10, 20, 30, 'abc', 'uvw'] ['abc', 'uvw']\n",
      "\n",
      "\n",
      "---------------------before replication operators---------------------\n",
      "[10, 20, 30]\n",
      "---------------------after replication operators----------------------\n",
      "[10, 20, 30, 10, 20, 30, 10, 20, 30]\n",
      "[10, 20, 30, 10, 20, 30, 10, 20, 30]\n"
     ]
    }
   ],
   "source": [
    "# Example:\n",
    "\n",
    "a = [10,20,30]\n",
    "b = [\"abc\", \"uvw\"]\n",
    "print (\"before concatenation operators\".center(70,\"-\"))\n",
    "print (a, b)\n",
    "print (\"after concatenation operators\".center(70,\"-\"))\n",
    "c = a+b\n",
    "print (c)\n",
    "a += b\n",
    "print (a, b)\n",
    "\n",
    "a = [10,20,30]\n",
    "print('\\n')\n",
    "print (\"before replication operators\".center(70,\"-\"))\n",
    "print (a)\n",
    "print (\"after replication operators\".center(70,\"-\"))\n",
    "c = a*3\n",
    "print (c)\n",
    "a *= 3\n",
    "print (a)"
   ]
  },
  {
   "cell_type": "markdown",
   "id": "c356eb0e",
   "metadata": {},
   "source": [
    "QUESTION:\n",
    "    10. What is difference between the list methods append() and insert()?\n",
    "\n",
    "ANSWER:\n",
    "    1. \".append()\" method can be use for adding new element in the list.\n",
    "    2. \".insert()\" method is used to add as well as and can modify an element in its the already occupied position."
   ]
  },
  {
   "cell_type": "code",
   "execution_count": 12,
   "id": "52622daa",
   "metadata": {},
   "outputs": [
    {
     "name": "stdout",
     "output_type": "stream",
     "text": [
      "----------------------------original list-----------------------------\n",
      "[10, 20, 30]\n",
      "-------------------------list after .append()-------------------------\n",
      "[10, 20, 30, 'xyz']\n",
      "-------------------------list after .insert()-------------------------\n",
      "[10, 'abc', 20, 30, 'xyz']\n",
      "[10, 'abc', 20, 30, 'xyz', 'abc']\n"
     ]
    }
   ],
   "source": [
    "# Example\n",
    "lst = [10,20,30]\n",
    "print (\"original list\".center(70,\"-\"))\n",
    "print (lst)\n",
    "lst.append(\"xyz\")\n",
    "print (\"list after .append()\".center(70,\"-\"))\n",
    "print(lst)\n",
    "print (\"list after .insert()\".center(70,\"-\"))\n",
    "lst.insert(1, \"abc\")\n",
    "print(lst)\n",
    "lst.insert(15, \"abc\")\n",
    "print(lst)"
   ]
  },
  {
   "cell_type": "markdown",
   "id": "9d70a134",
   "metadata": {},
   "source": [
    "QUESTION:\n",
    "    11. What are the two methods for removing items from a list?\n",
    "\n",
    "ANSWER:\n",
    "    1. .remove() --> It helps to remove the very first given element matching from the list\n",
    "    2. .pop() --> method removes an element from the list based on the index given\n",
    "    3. .clear() --> method will remove all the elements present in the list"
   ]
  },
  {
   "cell_type": "code",
   "execution_count": 13,
   "id": "1d6d6963",
   "metadata": {},
   "outputs": [
    {
     "name": "stdout",
     "output_type": "stream",
     "text": [
      ".remove()\n",
      "-------------------original lst-------------------\n",
      "[2, 'CAT', 4, 'cat', 6, 8, 10, 'cat']\n",
      "--------------Remove 'cat' from lst---------------\n",
      "[2, 'CAT', 4, 6, 8, 10, 'cat']\n",
      "\n",
      "\n",
      ".pop()\n",
      "-------------------original lst-------------------\n",
      "[2, 'CAT', 4, 'cat', 6, 8, 10, 'cat']\n",
      "--------------Popped 'cat' from lst---------------\n",
      "[2, 4, 'cat', 6, 8, 10, 'cat']\n",
      "\n",
      "\n",
      ".clear()\n",
      "-------------------original lst-------------------\n",
      "[2, 'CAT', 4, 'cat', 6, 8, 10, 'cat']\n",
      "--------------------clear lst---------------------\n",
      "[]\n"
     ]
    }
   ],
   "source": [
    "# Example\n",
    "\n",
    "# .remove()\n",
    "print (\".remove()\")\n",
    "lst = [2, 'CAT', 4, 'cat', 6, 8, 10, 'cat']\n",
    "print (\"original lst\".center(50,\"-\"))\n",
    "print(lst)\n",
    "print (\"Remove 'cat' from lst\".center(50,\"-\"))\n",
    "lst.remove('cat')\n",
    "print(lst)\n",
    "\n",
    "# .pop()\n",
    "print ('\\n')\n",
    "print (\".pop()\")\n",
    "lst = [2, 'CAT', 4, 'cat', 6, 8, 10, 'cat']\n",
    "print (\"original lst\".center(50,\"-\"))\n",
    "print(lst)\n",
    "print (\"Popped 'cat' from lst\".center(50,\"-\"))\n",
    "lst.pop(1)\n",
    "print(lst)\n",
    "\n",
    "# .clear()\n",
    "print ('\\n')\n",
    "print (\".clear()\")\n",
    "lst = [2, 'CAT', 4, 'cat', 6, 8, 10, 'cat']\n",
    "print (\"original lst\".center(50,\"-\"))\n",
    "print(lst)\n",
    "print (\"clear lst\".center(50,\"-\"))\n",
    "lst.clear()\n",
    "print(lst)"
   ]
  },
  {
   "cell_type": "markdown",
   "id": "517abac3",
   "metadata": {},
   "source": [
    "QUESTION:\n",
    "    12. Describe how list values and string values are identical.\n",
    "\n",
    "ANSWER:\n",
    "    1. Each element in a list is allocated a unique memory location, whih is'nt shared by any other value. \n",
    "    2. Similar to the list each item in a string literal is also allocated a unique memory location.\n",
    "    3. Both are \"ordered\" and \"itterable\" sequintial data type.\n",
    "    4. lists are mutable and strings are immutable."
   ]
  },
  {
   "cell_type": "markdown",
   "id": "6adcc383",
   "metadata": {},
   "source": [
    "QUESTION:\n",
    "    13. What's the difference between tuples and lists?\n",
    "\n",
    "ANSWER:\n",
    "    lists are mutable and tuples are immutable."
   ]
  },
  {
   "cell_type": "markdown",
   "id": "228440cc",
   "metadata": {},
   "source": [
    "QUESTION:\n",
    "    14. How do you type a tuple value that only contains the integer 42?\n",
    "\n",
    "ANSWER: \n",
    "    In (42,) \",\" is mandatory"
   ]
  },
  {
   "cell_type": "code",
   "execution_count": 14,
   "id": "f91ad796",
   "metadata": {},
   "outputs": [
    {
     "data": {
      "text/plain": [
       "42"
      ]
     },
     "execution_count": 14,
     "metadata": {},
     "output_type": "execute_result"
    }
   ],
   "source": [
    "# ANSWER\n",
    "\n",
    "tuple1 = (42,)\n",
    "tuple1[0]"
   ]
  },
  {
   "cell_type": "markdown",
   "id": "ff5a5ca4",
   "metadata": {},
   "source": [
    "QUESTION:\n",
    "    15. How do you get a list value's tuple form? How do you get a tuple value's list form?\n",
    "\n",
    "ANSWER:"
   ]
  },
  {
   "cell_type": "code",
   "execution_count": 15,
   "id": "06fb08af",
   "metadata": {},
   "outputs": [
    {
     "name": "stdout",
     "output_type": "stream",
     "text": [
      "-------------list value's tuple form--------------\n",
      "[1, 2, 3, 'a', 'b'] <class 'list'>\n",
      "(1, 2, 3, 'a', 'b') <class 'tuple'>\n",
      "\n",
      "\n",
      "-------------tuple value's list form--------------\n",
      "(10, 'abc') <class 'tuple'>\n",
      "[10, 'abc'] <class 'list'>\n"
     ]
    }
   ],
   "source": [
    "# ANSWER\n",
    "\n",
    "# list_to_tuple\n",
    "print (\"list value's tuple form\".center(50,\"-\"))\n",
    "lst = [1,2,3,'a','b']\n",
    "print(lst, type(lst))\n",
    "lst_to_tup = tuple(lst)\n",
    "print(lst_to_tup, type(lst_to_tup))\n",
    "\n",
    "print(\"\\n\")\n",
    "\n",
    "# tuple_to_list\n",
    "print (\"tuple value's list form\".center(50,\"-\"))\n",
    "tup = (10,'abc')\n",
    "print(tup,type(tup))\n",
    "tup_to_lst = list(tup)\n",
    "print(tup_to_lst,type(tup_to_lst))"
   ]
  },
  {
   "cell_type": "markdown",
   "id": "2f34a81d",
   "metadata": {},
   "source": [
    "QUESTION:\n",
    "    16. Variables that \"contain\" list values are not necessarily lists themselves. Instead, what do they contain?\n",
    "\n",
    "ANSWER:\n",
    "    They contain references to list values."
   ]
  },
  {
   "cell_type": "markdown",
   "id": "6108e0d7",
   "metadata": {},
   "source": [
    "QUESTION:\n",
    "    17. How do you distinguish between copy.copy() and copy.deepcopy()?\n",
    "    \n",
    "ANSWER:\n",
    "    1. copy() create reference to original object. If you change copied object - you change the original object. \n",
    "    2. It crates a 'shollow copy\" of the original object\n",
    "    \n",
    "    2. deepcopy() creates new object and does real copying of original object to new one\n",
    "    4. It crates a 'deep copy\" of the original object\n",
    "    5. That is, only copy.deepcopy() will duplicate any lists inside the list."
   ]
  },
  {
   "cell_type": "code",
   "execution_count": 16,
   "id": "d5b8ca46",
   "metadata": {},
   "outputs": [],
   "source": [
    "# Example"
   ]
  },
  {
   "cell_type": "code",
   "execution_count": 17,
   "id": "52fc2cdc",
   "metadata": {},
   "outputs": [
    {
     "name": "stdout",
     "output_type": "stream",
     "text": [
      "Old list: [[1, 2, 3], [4, 5, 6], [7, 8, 'a']]\n",
      "New list: [[1, 2, 3], [4, 5, 6], [7, 8, 'a']]\n",
      "ID of New List: 2307185310976\n",
      "ID of Old List: 2307185310976\n"
     ]
    }
   ],
   "source": [
    "old_list = [[1, 2, 3], [4, 5, 6], [7, 8, 'a']]\n",
    "new_list = old_list\n",
    "\n",
    "print(\"Old list:\", old_list)\n",
    "print(\"New list:\", new_list)\n",
    "\n",
    "print('ID of New List:', id(new_list))\n",
    "print('ID of Old List:', id(old_list))"
   ]
  },
  {
   "cell_type": "code",
   "execution_count": 18,
   "id": "669d4daf",
   "metadata": {},
   "outputs": [
    {
     "name": "stdout",
     "output_type": "stream",
     "text": [
      "Old list: [[1, 2, 3], [4, 5, 6], [7, 8, 'a'], [99.999, 99.999, 99.999]]\n",
      "New list: [[1, 2, 3], [4, 5, 6], [7, 8, 'a'], [99.999, 99.999, 99.999]]\n"
     ]
    }
   ],
   "source": [
    "old_list = [[1, 2, 3], [4, 5, 6], [7, 8, 'a']]\n",
    "new_list = old_list\n",
    "\n",
    "old_list.append([99.999,99.999,99.999])\n",
    "\n",
    "print(\"Old list:\", old_list)\n",
    "print(\"New list:\", new_list)"
   ]
  },
  {
   "cell_type": "code",
   "execution_count": 19,
   "id": "26fed005",
   "metadata": {},
   "outputs": [
    {
     "name": "stdout",
     "output_type": "stream",
     "text": [
      "Old list: [[1, 2, 3], [4, 5, 6], [7, 8, 'a'], [99.999, 99.999, 99.999]]\n",
      "New list: [[1, 2, 3], [4, 5, 6], [7, 8, 'a'], [99.999, 99.999, 99.999]]\n"
     ]
    }
   ],
   "source": [
    "old_list = [[1, 2, 3], [4, 5, 6], [7, 8, 'a']]\n",
    "new_list = old_list\n",
    "\n",
    "new_list.append([99.999,99.999,99.999])\n",
    "\n",
    "print(\"Old list:\", old_list)\n",
    "print(\"New list:\", new_list)"
   ]
  },
  {
   "cell_type": "code",
   "execution_count": 20,
   "id": "06108c1a",
   "metadata": {},
   "outputs": [
    {
     "name": "stdout",
     "output_type": "stream",
     "text": [
      "Old list: [[1, 2, 3], [4, 5, 6], [7, 8, 'AAA']]\n",
      "New list: [[1, 2, 3], [4, 5, 6], [7, 8, 'AAA']]\n"
     ]
    }
   ],
   "source": [
    "old_list = [[1, 2, 3], [4, 5, 6], [7, 8, 'a']]\n",
    "new_list = old_list\n",
    "\n",
    "old_list[2][2] = 'AAA'\n",
    "\n",
    "print(\"Old list:\", old_list)\n",
    "print(\"New list:\", new_list)"
   ]
  },
  {
   "cell_type": "code",
   "execution_count": 21,
   "id": "db5d1891",
   "metadata": {},
   "outputs": [
    {
     "name": "stdout",
     "output_type": "stream",
     "text": [
      "Old list: [[1, 2, 3], [4, 5, 6], [7, 8, 'CCC']]\n",
      "New list: [[1, 2, 3], [4, 5, 6], [7, 8, 'CCC']]\n"
     ]
    }
   ],
   "source": [
    "old_list = [[1, 2, 3], [4, 5, 6], [7, 8, 'a']]\n",
    "new_list = old_list\n",
    "\n",
    "new_list[2][2] = 'CCC'\n",
    "\n",
    "print(\"Old list:\", old_list)\n",
    "print(\"New list:\", new_list)"
   ]
  },
  {
   "cell_type": "code",
   "execution_count": 22,
   "id": "6c13c90e",
   "metadata": {},
   "outputs": [],
   "source": [
    "import copy"
   ]
  },
  {
   "cell_type": "code",
   "execution_count": 23,
   "id": "29cd1434",
   "metadata": {},
   "outputs": [
    {
     "name": "stdout",
     "output_type": "stream",
     "text": [
      "Old list: [[1, 2, 3], [4, 5, 6], [7, 8, 9]]\n",
      "New list: [[1, 2, 3], [4, 5, 6], [7, 8, 9]]\n",
      "ID of New List: 2307185459264\n",
      "ID of Old List: 2307202195776\n",
      "ID of New List [1]: 2307185491008\n",
      "ID of Old List [1]: 2307185491008\n"
     ]
    }
   ],
   "source": [
    "old_list = [[1, 2, 3], [4, 5, 6], [7, 8, 9]]\n",
    "new_list = copy.copy(old_list)\n",
    "\n",
    "print(\"Old list:\", old_list)\n",
    "print(\"New list:\", new_list)\n",
    "\n",
    "print('ID of New List:', id(new_list))\n",
    "print('ID of Old List:', id(old_list))\n",
    "\n",
    "print('ID of New List [1]:', id(new_list[1]))\n",
    "print('ID of Old List [1]:', id(old_list[1]))"
   ]
  },
  {
   "cell_type": "code",
   "execution_count": 24,
   "id": "726de409",
   "metadata": {},
   "outputs": [
    {
     "name": "stdout",
     "output_type": "stream",
     "text": [
      "Old list: [[1, 1, 1], [2, 2, 2], [3, 3, 3], [4, 4, 4]]\n",
      "New list: [[1, 1, 1], [2, 2, 2], [3, 3, 3]]\n"
     ]
    }
   ],
   "source": [
    "old_list = [[1, 1, 1], [2, 2, 2], [3, 3, 3]]\n",
    "new_list = copy.copy(old_list)\n",
    "\n",
    "old_list.append([4, 4, 4])\n",
    "\n",
    "print(\"Old list:\", old_list)\n",
    "print(\"New list:\", new_list)"
   ]
  },
  {
   "cell_type": "code",
   "execution_count": 25,
   "id": "bdc02c49",
   "metadata": {},
   "outputs": [
    {
     "name": "stdout",
     "output_type": "stream",
     "text": [
      "Old list: [[1, 1, 1], [2, 2, 2], [3, 3, 3]]\n",
      "New list: [[1, 1, 1], [2, 2, 2], [3, 3, 3], [4, 4, 4]]\n"
     ]
    }
   ],
   "source": [
    "old_list = [[1, 1, 1], [2, 2, 2], [3, 3, 3]]\n",
    "new_list = copy.copy(old_list)\n",
    "\n",
    "new_list.append([4, 4, 4])\n",
    "\n",
    "print(\"Old list:\", old_list)\n",
    "print(\"New list:\", new_list)"
   ]
  },
  {
   "cell_type": "code",
   "execution_count": 26,
   "id": "eec0db07",
   "metadata": {},
   "outputs": [
    {
     "name": "stdout",
     "output_type": "stream",
     "text": [
      "Old list: [[1, 1, 1], [2, 'AA', 2], [3, 3, 3]]\n",
      "New list: [[1, 1, 1], [2, 'AA', 2], [3, 3, 3]]\n"
     ]
    }
   ],
   "source": [
    "old_list = [[1, 1, 1], [2, 2, 2], [3, 3, 3]]\n",
    "new_list = copy.copy(old_list)\n",
    "\n",
    "old_list[1][1] = 'AA'\n",
    "\n",
    "print(\"Old list:\", old_list)\n",
    "print(\"New list:\", new_list)"
   ]
  },
  {
   "cell_type": "code",
   "execution_count": 27,
   "id": "5259545a",
   "metadata": {},
   "outputs": [
    {
     "name": "stdout",
     "output_type": "stream",
     "text": [
      "Old list: [[1, 1, 1], [2, 'BB', 2], [3, 3, 3]]\n",
      "New list: [[1, 1, 1], [2, 'BB', 2], [3, 3, 3]]\n",
      "ID of New List: 2307185495936\n",
      "ID of Old List: 2307185465088\n",
      "ID of New List [1]: 2307202196608\n",
      "ID of Old List [1]: 2307202196608\n"
     ]
    }
   ],
   "source": [
    "old_list = [[1, 1, 1], [2, 2, 2], [3, 3, 3]]\n",
    "new_list = copy.copy(old_list)\n",
    "\n",
    "new_list[1][1] = 'BB'\n",
    "\n",
    "print(\"Old list:\", old_list)\n",
    "print(\"New list:\", new_list)\n",
    "\n",
    "print('ID of New List:', id(new_list))\n",
    "print('ID of Old List:', id(old_list))\n",
    "\n",
    "print('ID of New List [1]:', id(new_list[1]))\n",
    "print('ID of Old List [1]:', id(old_list[1]))"
   ]
  },
  {
   "cell_type": "code",
   "execution_count": 28,
   "id": "05adee61",
   "metadata": {},
   "outputs": [
    {
     "name": "stdout",
     "output_type": "stream",
     "text": [
      "Old list: [[1, 1, 1], [2, 2, 2], [3, 3, 3]]\n",
      "New list: [[1, 1, 1], [2, 2, 2], [3, 3, 3]]\n"
     ]
    }
   ],
   "source": [
    "old_list = [[1, 1, 1], [2, 2, 2], [3, 3, 3]]\n",
    "new_list = copy.deepcopy(old_list)\n",
    "\n",
    "print(\"Old list:\", old_list)\n",
    "print(\"New list:\", new_list)"
   ]
  },
  {
   "cell_type": "code",
   "execution_count": 29,
   "id": "c3bd6b71",
   "metadata": {},
   "outputs": [
    {
     "name": "stdout",
     "output_type": "stream",
     "text": [
      "ID of New List: 2307185441728\n",
      "ID of Old List: 2307185135936\n",
      "ID of New List [1]: 2307185463936\n",
      "ID of Old List [1]: 2307185459264\n"
     ]
    }
   ],
   "source": [
    "print('ID of New List:', id(new_list))\n",
    "print('ID of Old List:', id(old_list))\n",
    "\n",
    "print('ID of New List [1]:', id(new_list[1]))\n",
    "print('ID of Old List [1]:', id(old_list[1]))"
   ]
  },
  {
   "cell_type": "code",
   "execution_count": 30,
   "id": "8e615553",
   "metadata": {},
   "outputs": [
    {
     "name": "stdout",
     "output_type": "stream",
     "text": [
      "Old list: [[1, 1, 1], ['BB', 2, 2], [3, 3, 3]]\n",
      "New list: [[1, 1, 1], [2, 2, 2], [3, 3, 3]]\n"
     ]
    }
   ],
   "source": [
    "old_list = [[1, 1, 1], [2, 2, 2], [3, 3, 3]]\n",
    "new_list = copy.deepcopy(old_list)\n",
    "\n",
    "old_list[1][0] = 'BB'\n",
    "\n",
    "print(\"Old list:\", old_list)\n",
    "print(\"New list:\", new_list)"
   ]
  },
  {
   "cell_type": "code",
   "execution_count": 31,
   "id": "d0a63d17",
   "metadata": {},
   "outputs": [
    {
     "name": "stdout",
     "output_type": "stream",
     "text": [
      "Old list: [[1, 1, 1], [2, 2, 2], [3, 3, 3]]\n",
      "New list: [[1, 1, 1], ['CC', 2, 2], [3, 3, 3]]\n"
     ]
    }
   ],
   "source": [
    "old_list = [[1, 1, 1], [2, 2, 2], [3, 3, 3]]\n",
    "new_list = copy.deepcopy(old_list)\n",
    "\n",
    "new_list[1][0] = 'CC'\n",
    "\n",
    "print(\"Old list:\", old_list)\n",
    "print(\"New list:\", new_list)"
   ]
  },
  {
   "cell_type": "code",
   "execution_count": null,
   "id": "5879a9d6",
   "metadata": {},
   "outputs": [],
   "source": []
  }
 ],
 "metadata": {
  "kernelspec": {
   "display_name": "Python 3 (ipykernel)",
   "language": "python",
   "name": "python3"
  },
  "language_info": {
   "codemirror_mode": {
    "name": "ipython",
    "version": 3
   },
   "file_extension": ".py",
   "mimetype": "text/x-python",
   "name": "python",
   "nbconvert_exporter": "python",
   "pygments_lexer": "ipython3",
   "version": "3.9.12"
  }
 },
 "nbformat": 4,
 "nbformat_minor": 5
}
